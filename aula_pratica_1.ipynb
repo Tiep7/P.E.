{
  "cells": [
    {
      "cell_type": "markdown",
      "metadata": {
        "id": "view-in-github",
        "colab_type": "text"
      },
      "source": [
        "<a href=\"https://colab.research.google.com/github/Tiep7/P.E./blob/main/aula_pratica_1.ipynb\" target=\"_parent\"><img src=\"https://colab.research.google.com/assets/colab-badge.svg\" alt=\"Open In Colab\"/></a>"
      ]
    },
    {
      "cell_type": "code",
      "execution_count": null,
      "metadata": {
        "colab": {
          "base_uri": "https://localhost:8080/"
        },
        "id": "hqvcHSqbkvFq",
        "outputId": "5f9a9e63-727b-4d4a-f92a-019a10c8083c"
      },
      "outputs": [
        {
          "output_type": "stream",
          "name": "stdout",
          "text": [
            "Overwriting epp1.c\n"
          ]
        }
      ],
      "source": [
        "#Criar um programa em C que exiba a mensagem \"hello world\".\n",
        "%%writefile epp1.c\n",
        "#include<stdio.h>\n",
        "int main(void) {\n",
        "  printf(\"hello word\");\n",
        "  return 0;\n",
        "}"
      ]
    },
    {
      "cell_type": "code",
      "execution_count": null,
      "metadata": {
        "colab": {
          "base_uri": "https://localhost:8080/"
        },
        "id": "5VR_AkQVlQRk",
        "outputId": "ebd971b1-20e7-4f69-a05f-9e86128d4132"
      },
      "outputs": [
        {
          "name": "stdout",
          "output_type": "stream",
          "text": [
            "hello word"
          ]
        }
      ],
      "source": [
        "!gcc epp1.c -o epp1\n",
        "!./epp1"
      ]
    },
    {
      "cell_type": "code",
      "execution_count": null,
      "metadata": {
        "colab": {
          "base_uri": "https://localhost:8080/"
        },
        "id": "hb3C7-34g_Ks",
        "outputId": "79e2d998-7f25-4e5a-f350-87813a3e0dde"
      },
      "outputs": [
        {
          "output_type": "stream",
          "name": "stdout",
          "text": [
            "Overwriting epp2.c\n"
          ]
        }
      ],
      "source": [
        "#Criar um programa em C que exiba a mensagem \"Digite qualquer caractere para sair...\". O programa deve ser encerrado após alguma tecla ser lida por meio do teclado.\n",
        "%%writefile epp2.c\n",
        "#include<stdio.h>\n",
        "int main(void) {\n",
        "  char C;\n",
        "  printf(\"Digite qualquer caractere para sair...\");\n",
        "  scanf(\"%c\", &C);\n",
        "  return 0;\n",
        "}"
      ]
    },
    {
      "cell_type": "code",
      "execution_count": null,
      "metadata": {
        "colab": {
          "base_uri": "https://localhost:8080/"
        },
        "id": "DN5urSKLhA7R",
        "outputId": "1ef39b0d-b726-4f23-b62b-7e900f6b4e9e"
      },
      "outputs": [
        {
          "name": "stdout",
          "output_type": "stream",
          "text": [
            "Digite qualquer caractere para sair...c\n"
          ]
        }
      ],
      "source": [
        "!gcc epp2.c -o epp2\n",
        "!./epp2"
      ]
    },
    {
      "cell_type": "code",
      "execution_count": null,
      "metadata": {
        "colab": {
          "base_uri": "https://localhost:8080/"
        },
        "id": "zPO4WmWthvDI",
        "outputId": "d666905b-1887-40b0-dcb2-e1d852334f4e"
      },
      "outputs": [
        {
          "output_type": "stream",
          "name": "stdout",
          "text": [
            "Writing epp3.c\n"
          ]
        }
      ],
      "source": [
        "#Criar um programa em C que peça que um valor inteiro seja digitado. Em seguida, o programa deve exibir o valor digitado em uma mensagem.\n",
        "%%writefile epp3.c\n",
        "#include<stdio.h>\n",
        "int main(void) {\n",
        "  int a;\n",
        "  printf(\"Digite um valor inteiro: \");\n",
        "  scanf(\"%d\", &a);\n",
        "  printf(\"O valor digitado foi: %d\", a);\n",
        "  return 0;\n",
        "}"
      ]
    },
    {
      "cell_type": "code",
      "execution_count": null,
      "metadata": {
        "colab": {
          "base_uri": "https://localhost:8080/"
        },
        "id": "79KzEb4miLNG",
        "outputId": "9b9e81f3-d44a-4484-c7e5-e44c54f5e687"
      },
      "outputs": [
        {
          "name": "stdout",
          "output_type": "stream",
          "text": [
            "Digite um valor inteiro: 1\n",
            "O valor digitado foi: 1"
          ]
        }
      ],
      "source": [
        "!gcc epp3.c -o epp3\n",
        "!./epp3"
      ]
    },
    {
      "cell_type": "code",
      "execution_count": null,
      "metadata": {
        "colab": {
          "base_uri": "https://localhost:8080/"
        },
        "id": "obAbugvGl3Ba",
        "outputId": "c1213644-2b9f-4907-8019-8dfb972ff9cc"
      },
      "outputs": [
        {
          "output_type": "stream",
          "name": "stdout",
          "text": [
            "Overwriting epp4.c\n"
          ]
        }
      ],
      "source": [
        "#Criar um programa em C que peça que sejam digitados dois valores inteiros.\n",
        "#Em seguida, o programa deve exibir mensagens informando o resultado das operações de soma, multiplicação, subtração, divisão e resto.\n",
        "%%writefile epp4.c\n",
        "#include<stdio.h>\n",
        "int main(void) {\n",
        "    int a, b, s, p, q, r, d;\n",
        "    printf(\"Digite dois valores: \");\n",
        "    scanf(\"%d\", &a);\n",
        "    scanf(\"%d\", &b);\n",
        "    s = a + b;\n",
        "    p = a * b;\n",
        "    d = a - b;\n",
        "    q = a / b;\n",
        "    r = a % b;\n",
        "    printf(\"A soma é %d\\n\", s);\n",
        "    printf(\"O produto é %d\\n\", p);\n",
        "    printf(\"A diferença é %d\\n\", d);\n",
        "    printf(\"O quociente é %d\\n\", q);\n",
        "    printf(\"O resto é %d\\n\", r);\n",
        "    return 0;\n",
        "}"
      ]
    },
    {
      "cell_type": "code",
      "execution_count": null,
      "metadata": {
        "colab": {
          "base_uri": "https://localhost:8080/"
        },
        "id": "dWvC1Umfs1hz",
        "outputId": "072f4307-3f8e-402a-f5b1-e1dd9488d73c"
      },
      "outputs": [
        {
          "name": "stdout",
          "output_type": "stream",
          "text": [
            "Digite dois valores: 1\n",
            "2\n",
            "A soma é 3\n",
            "O produto é 2\n",
            "A diferença é -1\n",
            "O quociente é 0\n",
            "O resto é 1\n"
          ]
        }
      ],
      "source": [
        "!gcc epp4.c -o epp4\n",
        "!./epp4"
      ]
    },
    {
      "cell_type": "code",
      "execution_count": null,
      "metadata": {
        "colab": {
          "base_uri": "https://localhost:8080/"
        },
        "id": "u6aXqgUMiXoU",
        "outputId": "64078ad0-8693-48db-cddf-7871210d0485"
      },
      "outputs": [
        {
          "output_type": "stream",
          "name": "stdout",
          "text": [
            "Writing epp5.c\n"
          ]
        }
      ],
      "source": [
        "#Criar um programa que receba um valor real \"x\" e então calcule e exiba o valor \"y\" tal que y = x² -2x + 3. O valor de y deve possuir 2 casas decimais.\n",
        "%%writefile epp5.c\n",
        "#include<stdio.h>\n",
        "int main(void) {\n",
        "  float x, y;\n",
        "  printf(\"Digite o valor de x: \");\n",
        "  scanf(\"%f\", &x);\n",
        "  y = (x * x) - (2 * x) + 3;\n",
        "  printf(\"O valor de y é: %.2f\", y);\n",
        "  return 0;\n",
        "}"
      ]
    },
    {
      "cell_type": "code",
      "execution_count": null,
      "metadata": {
        "colab": {
          "base_uri": "https://localhost:8080/"
        },
        "id": "fl4PtZ8_i6NG",
        "outputId": "6e165b13-6e2a-42bc-af10-17cbd1fcdb7d"
      },
      "outputs": [
        {
          "name": "stdout",
          "output_type": "stream",
          "text": [
            "Digite o valor de x: 1\n",
            "O valor de y é: 2.00"
          ]
        }
      ],
      "source": [
        "!gcc epp5.c -o epp5\n",
        "!./epp5"
      ]
    },
    {
      "cell_type": "code",
      "source": [
        "# Exercite a formatação de saídas. Seu programa irá receber 3 valores,\n",
        "# então deverá imprimir o primeiro formatado com nenhuma casa decimal, o segundo com duas casas e o terceiro com três casas, seguindo o mesmo estilo da saída de exemplo.\n",
        "%%writefile epp1+.c\n",
        "#include<stdio.h>\n",
        "int main(void) {\n",
        "  int a;\n",
        "  float b, c;\n",
        "  printf(\"Digite o primeiro número: \");\n",
        "  scanf(\"%d\", &a);\n",
        "  printf(\"Digite o segundo número: \");\n",
        "  scanf(\"%f\", &b);\n",
        "  printf(\"Digite o terceiro número: \");\n",
        "  scanf(\"%f\", &c);\n",
        "  printf(\"Primeiro numero = %d \\n\", a);\n",
        "  printf(\"%.2f eh o segundo numero \\n\", b);\n",
        "  printf(\"Finalmente %.3f eh o terceiro numero \\n\", c);\n",
        "  return 0;\n",
        "\n",
        "}"
      ],
      "metadata": {
        "colab": {
          "base_uri": "https://localhost:8080/"
        },
        "id": "PhGaC2YRbvVQ",
        "outputId": "1839e499-8acc-490c-c5bd-82cec7dcec77"
      },
      "execution_count": null,
      "outputs": [
        {
          "output_type": "stream",
          "name": "stdout",
          "text": [
            "Writing epp1+.c\n"
          ]
        }
      ]
    },
    {
      "cell_type": "code",
      "source": [
        "!gcc epp1+.c -o epp1+\n",
        "!./epp1+"
      ],
      "metadata": {
        "colab": {
          "base_uri": "https://localhost:8080/"
        },
        "id": "YbZ-pJ7ZdK7T",
        "outputId": "afeeff68-3c33-4058-ca9e-2ebf306d39ed"
      },
      "execution_count": null,
      "outputs": [
        {
          "output_type": "stream",
          "name": "stdout",
          "text": [
            "Digite o primeiro número: 2\n",
            "Digite o segundo número: 1.41421\n",
            "Digite o terceiro número: 3.14159\n",
            "Primeiro numero = 2 \n",
            "1.41 eh o segundo numero \n",
            "Finalmente 3.142 eh o terceiro numero \n"
          ]
        }
      ]
    },
    {
      "cell_type": "code",
      "source": [
        "# Escreva um programa que receba as coordenadas de dois pontos A e B e calcule a distância entre eles.\n",
        "%%writefile epp2+.c\n",
        "#include<stdio.h>\n",
        "#include<math.h>\n",
        "int main(void) {\n",
        "  float ax, ay, bx, by;\n",
        "  printf(\"Digite ax: \");\n",
        "  scanf(\"%f\", &ax);\n",
        "  printf(\"Digite ay: \");\n",
        "  scanf(\"%f\", &ay);\n",
        "  printf(\"Digite bx: \");\n",
        "  scanf(\"%f\", &bx);\n",
        "  printf(\"Digite by: \");\n",
        "  scanf(\"%f\", &by);\n",
        "  float distancia = sqrt(pow((bx - ax), 2) + pow((by - ay), 2));\n",
        "  printf(\"%.2f\", distancia);\n",
        "  return 0;\n",
        "}"
      ],
      "metadata": {
        "colab": {
          "base_uri": "https://localhost:8080/"
        },
        "id": "lIjFLpsDdyQp",
        "outputId": "b1c4a39f-60d0-4319-c5e5-69bcae17e840"
      },
      "execution_count": null,
      "outputs": [
        {
          "output_type": "stream",
          "name": "stdout",
          "text": [
            "Writing epp2+.c\n"
          ]
        }
      ]
    },
    {
      "cell_type": "code",
      "source": [
        "!gcc epp2+.c -lm -o epp2+\n",
        "!./epp2+"
      ],
      "metadata": {
        "colab": {
          "base_uri": "https://localhost:8080/"
        },
        "id": "nc6xJHWKfnRf",
        "outputId": "72f4a54f-5b0e-4601-ad86-fa92c4b1403d"
      },
      "execution_count": null,
      "outputs": [
        {
          "output_type": "stream",
          "name": "stdout",
          "text": [
            "Digite ax: 0\n",
            "Digite ay: 1\n",
            "Digite bx: 2\n",
            "Digite by: 1\n",
            "2.00"
          ]
        }
      ]
    },
    {
      "cell_type": "code",
      "source": [
        "# Faça um programa que calcula a soma dos termos de uma Progressão Aritmética (PA) finita.\n",
        "%%writefile epp3+.c\n",
        "#include<stdio.h>\n",
        "int main(void) {\n",
        "  int a1, r, n;\n",
        "  printf(\"Digite a1(primeiro termo da pa): \");\n",
        "  scanf(\"%d\", &a1);\n",
        "  printf(\"Digite r(razão): \");\n",
        "  scanf(\"%d\", &r);\n",
        "  printf(\"Digite n(número de termos): \");\n",
        "  scanf(\"%d\", &n);\n",
        "  int an = a1 + ((n - 1)*r);\n",
        "  int soma = (n*(a1 + an)) / 2;\n",
        "  printf(\"%d\", soma);\n",
        "  return 0;\n",
        "}"
      ],
      "metadata": {
        "colab": {
          "base_uri": "https://localhost:8080/"
        },
        "id": "PcqjhLvnhXhT",
        "outputId": "64886ee4-69a6-4f5c-b94a-5b811c1b99da"
      },
      "execution_count": null,
      "outputs": [
        {
          "output_type": "stream",
          "name": "stdout",
          "text": [
            "Writing epp3+.c\n"
          ]
        }
      ]
    },
    {
      "cell_type": "code",
      "source": [
        "!gcc epp3+.c -o epp3+\n",
        "!./epp3+"
      ],
      "metadata": {
        "colab": {
          "base_uri": "https://localhost:8080/"
        },
        "id": "5N-fegyBjsVJ",
        "outputId": "0818cd96-17a7-4643-c098-b8a04da577a0"
      },
      "execution_count": null,
      "outputs": [
        {
          "output_type": "stream",
          "name": "stdout",
          "text": [
            "Digite a1(primeiro termo da pa): 1\n",
            "Digite r(razão): 1\n",
            "Digite n(número de termos): 3\n",
            "6"
          ]
        }
      ]
    },
    {
      "cell_type": "code",
      "source": [
        "# Escreva um programa que receba o valor de um produto e imprima o valor após o desconto 10% + 10%.\n",
        "%%writefile epp4+.c\n",
        "#include<stdio.h>\n",
        "int main(void) {\n",
        "  float valor_total;\n",
        "  printf(\"Digite o valor total da compra: \");\n",
        "  scanf(\"%f\", &valor_total);\n",
        "  float valor_desconto = valor_total - (valor_total * 0.1);\n",
        "  float valor_final = valor_desconto - (valor_desconto * 0.1);\n",
        "  printf(\"%.2f\", valor_final);\n",
        "  return 0;\n",
        "}"
      ],
      "metadata": {
        "colab": {
          "base_uri": "https://localhost:8080/"
        },
        "id": "tL1Yaou-kNTA",
        "outputId": "5670f2c0-5fef-4602-9f62-f34b7a2b6fd8"
      },
      "execution_count": null,
      "outputs": [
        {
          "output_type": "stream",
          "name": "stdout",
          "text": [
            "Writing epp4+.c\n"
          ]
        }
      ]
    },
    {
      "cell_type": "code",
      "source": [
        "!gcc epp4+.c -o epp4+\n",
        "!./epp4+"
      ],
      "metadata": {
        "colab": {
          "base_uri": "https://localhost:8080/"
        },
        "id": "VoxTbbtJmD98",
        "outputId": "57be7015-be00-4a4a-ae74-1110e2a1212f"
      },
      "execution_count": null,
      "outputs": [
        {
          "output_type": "stream",
          "name": "stdout",
          "text": [
            "Digite o valor total da compra: 50\n",
            "40.50"
          ]
        }
      ]
    },
    {
      "cell_type": "code",
      "execution_count": null,
      "metadata": {
        "colab": {
          "base_uri": "https://localhost:8080/"
        },
        "id": "Va8iGmb37UWs",
        "outputId": "95754ad1-c408-4a65-a9cd-383af76131c5"
      },
      "outputs": [
        {
          "output_type": "stream",
          "name": "stdout",
          "text": [
            "Writing epp5+.c\n"
          ]
        }
      ],
      "source": [
        "# Um determinado método para encriptar números de 4 dígitos consiste em adicionar 1 em cada dígito do número. Por exemplo:\n",
        "%%writefile epp5+.c\n",
        "#include<stdio.h>\n",
        "int main(void) {\n",
        "    int a;\n",
        "    printf(\"Digite a: \");\n",
        "    scanf(\"%d\", &a);\n",
        "    int m = ((a / 1000)+ 1) % 10;\n",
        "    int c = ((a / 100) + 1) % 10;\n",
        "    int d = ((a / 10)+ 1) % 10;\n",
        "    int u = ((a % 10) + 1) % 10;\n",
        "\n",
        "    printf(\"%d\", m);\n",
        "    printf(\"%d\", c);\n",
        "    printf(\"%d\", d);\n",
        "    printf(\"%d\", u);\n",
        "    return 0;\n",
        "}"
      ]
    },
    {
      "cell_type": "code",
      "execution_count": null,
      "metadata": {
        "colab": {
          "base_uri": "https://localhost:8080/"
        },
        "id": "QtQ1-Xso7VVj",
        "outputId": "0603c892-a0bc-4558-ad6f-9c8990a85e41"
      },
      "outputs": [
        {
          "output_type": "stream",
          "name": "stdout",
          "text": [
            "Digite a: 8909\n",
            "9010"
          ]
        }
      ],
      "source": [
        "!gcc epp5+.c -o epp5+\n",
        "!./epp5+"
      ]
    },
    {
      "cell_type": "code",
      "source": [
        "# exercício 1\n",
        "# Implemente um algoritmo que calcule a área de um triângulo (área = (base x altura) / 2),\n",
        "# sendo que a base e a altura devem ser definidas pelo usuário (teclado).\n",
        "\n",
        "%%writefile ex1.c\n",
        "#include<stdio.h>\n",
        "int main(void) {\n",
        "  int area, base, altura;\n",
        "  printf(\"Digite a base: \");\n",
        "  scanf(\"%d\", &base);\n",
        "  printf(\"Digite a altura: \");\n",
        "  scanf(\"%d\", &altura);\n",
        "  area = (base * altura) / 2;\n",
        "  printf(\"A área do triângulo é: %d\", area);\n",
        "  return 0;\n",
        "}"
      ],
      "metadata": {
        "colab": {
          "base_uri": "https://localhost:8080/"
        },
        "id": "BvAaivPpRxvP",
        "outputId": "2aa74461-bd16-4b19-97a9-1c4402fd3aaf"
      },
      "execution_count": null,
      "outputs": [
        {
          "output_type": "stream",
          "name": "stdout",
          "text": [
            "Overwriting ex1.c\n"
          ]
        }
      ]
    },
    {
      "cell_type": "code",
      "source": [
        "!gcc ex1.c -o ex1\n",
        "!./ex1"
      ],
      "metadata": {
        "colab": {
          "base_uri": "https://localhost:8080/"
        },
        "id": "atJhzprsSfZ7",
        "outputId": "4d460b4c-ca49-4bff-d572-95a75ad670cd"
      },
      "execution_count": null,
      "outputs": [
        {
          "output_type": "stream",
          "name": "stdout",
          "text": [
            "Digite a base: 10\n",
            "Digite a altura: 2\n",
            "A área do triângulo é: 10"
          ]
        }
      ]
    },
    {
      "cell_type": "code",
      "source": [
        "# exercício 2\n",
        "# Implemente um algoritmo que leia três números (a, b e c) e então calcule:\n",
        "# a) O quadrado de a;\n",
        "# b) O cubo de a;\n",
        "# c) Resto da divisão de b por c.\n",
        "\n",
        "%%writefile ex2.c\n",
        "#include<stdio.h>\n",
        "int main(void) {\n",
        "  int a, b, c;\n",
        "  printf(\"Digite 3 número: \");\n",
        "  scanf(\"%d %d %d\", &a, &b, &c);\n",
        "  printf(\"O quadrado de a é: %d\\n\", (a*a));\n",
        "  printf(\"O cubo de a é: %d\\n\", (a*a*a));\n",
        "  printf(\"O resto da divisão de b por c: %d\", (b % c));\n",
        "  return 0;\n",
        "\n",
        "}"
      ],
      "metadata": {
        "colab": {
          "base_uri": "https://localhost:8080/"
        },
        "id": "pu-R744HSxuj",
        "outputId": "6c141756-2fbc-42cb-fa58-9628ac4c1e89"
      },
      "execution_count": null,
      "outputs": [
        {
          "output_type": "stream",
          "name": "stdout",
          "text": [
            "Overwriting ex2.c\n"
          ]
        }
      ]
    },
    {
      "cell_type": "code",
      "source": [
        "!gcc ex2.c -o ex2\n",
        "!./ex2"
      ],
      "metadata": {
        "colab": {
          "base_uri": "https://localhost:8080/"
        },
        "id": "avCzrSh6TjuO",
        "outputId": "7730fb70-0004-4cb4-c542-36f272f675f6"
      },
      "execution_count": null,
      "outputs": [
        {
          "output_type": "stream",
          "name": "stdout",
          "text": [
            "Digite 3 número: 2\n",
            "5\n",
            "2\n",
            "O quadrado de a é: 4\n",
            "O cubo de a é: 8\n",
            "O resto da divisão de b por c: 1"
          ]
        }
      ]
    },
    {
      "cell_type": "code",
      "source": [
        "# exercício 3\n",
        "# Um professor calcula a nota do curso (N) da seguinte forma: N = 0,40 x P1 + 0,45 x P2 +\n",
        "# 0,15 x MEPP. Neste cálculo, P1 é a nota da Prova 1, P2 é a nota da Prova 2 e MEPP é a média\n",
        "# das notas das atividades práticas. Escreva um programa que leia as notas P1, P2, MEPP, e\n",
        "# ML. Após isso, imprima o valor de N.\n",
        "\n",
        "%%writefile ex3.c\n",
        "#include<stdio.h>\n",
        "int main(void) {\n",
        "  float p1, p2, mepp, media;\n",
        "  printf(\"Digite a nota da p1: \");\n",
        "  scanf(\"%f\", &p1);\n",
        "   printf(\"Digite a nota da p2: \");\n",
        "  scanf(\"%f\", &p2);\n",
        "   printf(\"Digite a média das notas das MEPP: \");\n",
        "  scanf(\"%f\", &mepp);\n",
        "  media = (p1 * 0.4) + (p2 * 0.45) + (mepp * 0.15);\n",
        "  printf(\"A média do aluno é: %.2f\", media);\n",
        "  return 0;\n",
        "}"
      ],
      "metadata": {
        "colab": {
          "base_uri": "https://localhost:8080/"
        },
        "id": "LXeMHH2eT_la",
        "outputId": "021e5808-b02c-4c98-9a36-f6ecf5af4038"
      },
      "execution_count": null,
      "outputs": [
        {
          "output_type": "stream",
          "name": "stdout",
          "text": [
            "Overwriting ex3.c\n"
          ]
        }
      ]
    },
    {
      "cell_type": "code",
      "source": [
        "!gcc ex3.c -o ex3\n",
        "!./ex3"
      ],
      "metadata": {
        "colab": {
          "base_uri": "https://localhost:8080/"
        },
        "id": "FZgRvjYKU8H7",
        "outputId": "58e657ef-82d7-48ed-f904-a0af77a71156"
      },
      "execution_count": null,
      "outputs": [
        {
          "output_type": "stream",
          "name": "stdout",
          "text": [
            "Digite a nota da p1: 9\n",
            "Digite a nota da p2: 7.5\n",
            "Digite a média das notas das MEPP: 10\n",
            "A média do aluno é: 8.48"
          ]
        }
      ]
    }
  ],
  "metadata": {
    "colab": {
      "provenance": [],
      "authorship_tag": "ABX9TyMJp/UwB0xaQq8WGrMMRgfu",
      "include_colab_link": true
    },
    "kernelspec": {
      "display_name": "Python 3",
      "name": "python3"
    },
    "language_info": {
      "name": "python"
    }
  },
  "nbformat": 4,
  "nbformat_minor": 0
}