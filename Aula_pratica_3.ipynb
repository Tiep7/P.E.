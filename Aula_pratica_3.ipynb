{
  "nbformat": 4,
  "nbformat_minor": 0,
  "metadata": {
    "colab": {
      "provenance": [],
      "authorship_tag": "ABX9TyM5/AA0UQlHPuQPDt6vFLTR",
      "include_colab_link": true
    },
    "kernelspec": {
      "name": "python3",
      "display_name": "Python 3"
    },
    "language_info": {
      "name": "python"
    }
  },
  "cells": [
    {
      "cell_type": "markdown",
      "metadata": {
        "id": "view-in-github",
        "colab_type": "text"
      },
      "source": [
        "<a href=\"https://colab.research.google.com/github/Tiep7/Programacao_estrutura-linguagem_c/blob/main/Aula_pratica_3.ipynb\" target=\"_parent\"><img src=\"https://colab.research.google.com/assets/colab-badge.svg\" alt=\"Open In Colab\"/></a>"
      ]
    },
    {
      "cell_type": "code",
      "execution_count": null,
      "metadata": {
        "colab": {
          "base_uri": "https://localhost:8080/"
        },
        "id": "VLyRxqvSSomS",
        "outputId": "75363279-6499-4139-bca9-5e8c0fed1ee7"
      },
      "outputs": [
        {
          "output_type": "stream",
          "name": "stdout",
          "text": [
            "Overwriting ex1.c\n"
          ]
        }
      ],
      "source": [
        "#ex1. Escreva uma função que computa a potência a\n",
        "#b para valores a (double) e b (int) passados\n",
        "#por parâmetro. Não use bibliotecas como, math.h.\n",
        "%%writefile ex1.c\n",
        "#include <stdio.h>\n",
        "double pot(double a, int b) {\n",
        "    double result = 1;\n",
        "    if (a == 0) {\n",
        "        return result;\n",
        "    } else {\n",
        "        for (int i = 0; i < b; i++) {\n",
        "        result = result * a;\n",
        "    }\n",
        "    return result;\n",
        "\n",
        "    }\n",
        "}\n",
        "int main() {\n",
        "    double a;\n",
        "    int b;\n",
        "    printf(\"Digite os valores x e y: \");\n",
        "    scanf(\"%lf %d\", &a, &b);\n",
        "  printf(\"A potência de x^y é igual a: %.2lf\", pot(a, b));\n",
        "  return 0;\n",
        "}"
      ]
    },
    {
      "cell_type": "code",
      "source": [
        "!gcc ex1.c -o ex1\n",
        "!./ex1"
      ],
      "metadata": {
        "colab": {
          "base_uri": "https://localhost:8080/"
        },
        "id": "mEubc7WxVsBR",
        "outputId": "7fbeabc3-7213-4ca4-9b88-b6e50adc5841"
      },
      "execution_count": null,
      "outputs": [
        {
          "output_type": "stream",
          "name": "stdout",
          "text": [
            "Digite os valores x e y: 4\n",
            "4\n",
            "A potência de x^y é igual a: 256.00"
          ]
        }
      ]
    },
    {
      "cell_type": "code",
      "source": [
        "# ex2. Escreva uma função que computa o fatorial de um número n passado por parâmetro.\n",
        "# Caso n < = 0, seu programa deve retornar 1.\n",
        "%%writefile ex2.c\n",
        "#include <stdio.h>\n",
        "int fatorial(int n) {\n",
        "    int fat = 1;\n",
        "    if (n <= 0) {\n",
        "        return 1;\n",
        "    }\n",
        "    for (int i = 1; i <= n; i++) {\n",
        "        fat = fat * i;\n",
        "    }\n",
        "    return fat;\n",
        "}\n",
        "\n",
        "int main() {\n",
        "    int num;\n",
        "    printf(\"digite um número que queira saber o fatorial: \");\n",
        "    scanf(\"%d\", &num);\n",
        "    printf(\"O fatorial de %d é: %d\", num, fatorial(num));\n",
        "\n",
        "    return 0;\n",
        "}"
      ],
      "metadata": {
        "colab": {
          "base_uri": "https://localhost:8080/"
        },
        "id": "h5wS8lvuX09j",
        "outputId": "3e857082-c4db-4fdb-e8e7-0d5542845cb4"
      },
      "execution_count": null,
      "outputs": [
        {
          "output_type": "stream",
          "name": "stdout",
          "text": [
            "Writing ex2.c\n"
          ]
        }
      ]
    },
    {
      "cell_type": "code",
      "source": [
        "!gcc ex2.c -o ex2\n",
        "!./ex2"
      ],
      "metadata": {
        "colab": {
          "base_uri": "https://localhost:8080/"
        },
        "id": "OO2KMuMEZhWf",
        "outputId": "bf9d764d-b173-4dad-8b4c-524099f3f61d"
      },
      "execution_count": null,
      "outputs": [
        {
          "output_type": "stream",
          "name": "stdout",
          "text": [
            "digite um número que queira saber o fatorial: 4\n",
            "O fatorial de 4 é: 24"
          ]
        }
      ]
    },
    {
      "cell_type": "code",
      "source": [
        "# ex3. Use a função anterior e crie um programa que calcula o coeficiente binomial de dois\n",
        "# números n e k lidos, segundo a fórmula:\n",
        "%%writefile ex3.c\n",
        "#include <stdio.h>\n",
        "int fatorial(int n) {\n",
        "    int fat = 1;\n",
        "    if (n <= 0) {\n",
        "        return 1;\n",
        "    }\n",
        "    for (int i = 1; i <= n; i++) {\n",
        "        fat = fat * i;\n",
        "    }\n",
        "    return fat;\n",
        "}\n",
        "\n",
        "int main() {\n",
        "    int num1, num2, eq;\n",
        "    printf(\"digite 2 dois para saber o coeficiente binominal entre eles: \");\n",
        "    scanf(\"%d\", &num1);\n",
        "    scanf(\"%d\", &num2);\n",
        "    eq = (fatorial(num1)) / ((fatorial(num2))*(fatorial(num1 - num2)));\n",
        "    printf(\"O coeficiente binominal entre %d e %d é: %d\", num1, num2, eq);\n",
        "\n",
        "    return 0;\n",
        "}\n",
        "\n"
      ],
      "metadata": {
        "colab": {
          "base_uri": "https://localhost:8080/"
        },
        "id": "IBCU8RuzcsqC",
        "outputId": "733623f7-3778-41ae-a8d3-7909c1e3b57c"
      },
      "execution_count": null,
      "outputs": [
        {
          "output_type": "stream",
          "name": "stdout",
          "text": [
            "Writing ex3.c\n"
          ]
        }
      ]
    },
    {
      "cell_type": "code",
      "source": [
        "!gcc ex3.c -o ex3\n",
        "!./ex3"
      ],
      "metadata": {
        "colab": {
          "base_uri": "https://localhost:8080/"
        },
        "id": "bcuixELWeXwf",
        "outputId": "56b1e54b-866c-4a97-c416-4af96c30fbe5"
      },
      "execution_count": null,
      "outputs": [
        {
          "output_type": "stream",
          "name": "stdout",
          "text": [
            "digite 2 dois para saber o coeficiente binominal entre eles: 3\n",
            "2\n",
            "O coeficiente binominal entre 3 e 2 é: 3"
          ]
        }
      ]
    },
    {
      "cell_type": "code",
      "source": [
        "# Crie um programa que receba dois números inteiros retorne o menor número.\n",
        "# Este programa deve ser baseado em uma função. Esta função recebe como parâmetros 2 valores: o primeiro número digitado e o segundo número digitado.\n",
        "# Então, retorna o menor número.\n",
        "\n",
        "%%writefile epp3_1.c\n",
        "#include<stdio.h>\n",
        "int compara(int a, int b);\n",
        "int main(void) {\n",
        "  int n1, n2, res;\n",
        "  printf(\"Digite dois valores: \");\n",
        "  scanf(\"%d %d\", &n1, &n2);\n",
        "\n",
        "  res = compara(n1, n2);\n",
        "  printf(\"O menor número eh %d.\", res);\n",
        "  return 0;\n",
        "\n",
        "}\n",
        "int compara(int a, int b) {\n",
        "  if (a > b) {\n",
        "    return b;\n",
        "  } else {\n",
        "    return a;\n",
        "  }\n",
        "}"
      ],
      "metadata": {
        "colab": {
          "base_uri": "https://localhost:8080/"
        },
        "id": "8BM8Jw7m-JeR",
        "outputId": "cde09365-9bf0-40b0-be64-fbbe2b8b91bb"
      },
      "execution_count": null,
      "outputs": [
        {
          "output_type": "stream",
          "name": "stdout",
          "text": [
            "Overwriting epp3_1.c\n"
          ]
        }
      ]
    },
    {
      "cell_type": "code",
      "source": [
        "!gcc epp3_1.c -o epp3_1\n",
        "!./epp3_1"
      ],
      "metadata": {
        "colab": {
          "base_uri": "https://localhost:8080/"
        },
        "id": "u-oh4M1h_H0R",
        "outputId": "1b7f418b-3cdb-4f67-d5e6-fe89ccbbc19b"
      },
      "execution_count": null,
      "outputs": [
        {
          "output_type": "stream",
          "name": "stdout",
          "text": [
            "Digite dois valores: 3\n",
            "5\n",
            "O menor número eh 3."
          ]
        }
      ]
    },
    {
      "cell_type": "code",
      "source": [
        "# Crie um programa que receba quatro números floats (x1, y1) e (x2, y2) e retorne a distância entre dois pontos.\n",
        "# Este programa deve ser baseado em uma função.\n",
        "# Esta função recebe como parâmetros 4 valores.\n",
        "\n",
        "%%writefile epp3_2.c\n",
        "#include <stdio.h>\n",
        "#include <math.h>\n",
        "\n",
        "float calculaDistancia(float Px1, float Px2, float Py1, float Py2) {\n",
        "  float dist;\n",
        "  dist = sqrt(pow((Px2 - Px1), 2) + pow((Py2 - Py1), 2));\n",
        "  return dist;\n",
        "}\n",
        "int main(void) {\n",
        "  float x1, y1, x2, y2, res;\n",
        "  printf(\"Digite as coordenadas do X e Y do ponto 1: \");\n",
        "  scanf(\"%f %f\", &x1, &y1);\n",
        "  printf(\"Digite as coordenadas do X e Y do ponto 2: \");\n",
        "  scanf(\"%f %f\", &x2, &y2);\n",
        "  res = calculaDistancia(x1, x2, y1, y2);\n",
        "  printf(\"A distancia entre os pontos eh: %.2f.\", res);\n",
        "  return 0;\n",
        "}"
      ],
      "metadata": {
        "colab": {
          "base_uri": "https://localhost:8080/"
        },
        "id": "YJF_WqVj_4VT",
        "outputId": "cf3dad2a-d762-4a88-a680-c0d72a7b4420"
      },
      "execution_count": null,
      "outputs": [
        {
          "output_type": "stream",
          "name": "stdout",
          "text": [
            "Overwriting epp3_2.c\n"
          ]
        }
      ]
    },
    {
      "cell_type": "code",
      "source": [
        "!gcc epp3_2.c -o epp3_2\n",
        "!./epp3_2"
      ],
      "metadata": {
        "colab": {
          "base_uri": "https://localhost:8080/"
        },
        "id": "wCUHv9dsBll0",
        "outputId": "7c4787fe-d964-4095-e466-de1705691559"
      },
      "execution_count": null,
      "outputs": [
        {
          "output_type": "stream",
          "name": "stdout",
          "text": [
            "/usr/bin/ld: /tmp/ccuVUhyX.o: in function `calculaDistancia':\n",
            "epp3_2.c:(.text+0x49): undefined reference to `pow'\n",
            "/usr/bin/ld: epp3_2.c:(.text+0x7b): undefined reference to `pow'\n",
            "/usr/bin/ld: epp3_2.c:(.text+0x93): undefined reference to `sqrt'\n",
            "collect2: error: ld returned 1 exit status\n",
            "/bin/bash: line 1: ./epp3_2: No such file or directory\n"
          ]
        }
      ]
    },
    {
      "cell_type": "code",
      "source": [
        "# Crie um programa que leia 5 números inteiros positivos (utilize uma função inteiroPositivo que leia um número e verifique se ele é positivo, retornando-o caso afirmativo).\n",
        "# Para cada número inteiro positivo, escrever a soma de seus divisores(exceto ele mesmo).Utilize a função SomaDivisores para obter a soma.\n",
        "\n",
        "%%writefile epp3_3.c\n",
        "#include <stdio.h>\n",
        "int i = 1;\n",
        "\n",
        "int inteiroPositivo() {\n",
        "    int num, cont = 1;\n",
        "    while ( cont < 6) {\n",
        "        cont += 1;\n",
        "        scanf(\"%d\", &num);\n",
        "        if (num > 0) {\n",
        "            return num;\n",
        "        } else {\n",
        "            printf(\"Digite o %d número: \", i);\n",
        "            return inteiroPositivo();\n",
        "        }\n",
        "    }\n",
        "\n",
        "}\n",
        "\n",
        "\n",
        "float somaDivisores(int n) {\n",
        "    int soma = 0;\n",
        "    for (int j = 1; j < n; j++) {\n",
        "        if (n % j == 0) {\n",
        "            soma += j;\n",
        "        }\n",
        "    }\n",
        "    return soma;\n",
        "}\n",
        "\n",
        "int main() {\n",
        "    for (i; i <= 5; i++) {\n",
        "        printf(\"Digite o %d número: \", i);\n",
        "        int num = inteiroPositivo();\n",
        "        float soma = somaDivisores(num);\n",
        "        printf(\"A soma dos divisores: %.0f\\n\", soma);\n",
        "    }\n",
        "    return 0;\n",
        "}\n"
      ],
      "metadata": {
        "id": "WvSfSp8ImTs0",
        "colab": {
          "base_uri": "https://localhost:8080/"
        },
        "outputId": "853a8173-6111-44d7-9a74-f7a8c3d7add2"
      },
      "execution_count": null,
      "outputs": [
        {
          "output_type": "stream",
          "name": "stdout",
          "text": [
            "Writing epp3_3.c\n"
          ]
        }
      ]
    },
    {
      "cell_type": "code",
      "source": [
        "!gcc epp3_3.c -o epp3_3\n",
        "!./epp3_3"
      ],
      "metadata": {
        "colab": {
          "base_uri": "https://localhost:8080/"
        },
        "id": "PzmonIXhFDc8",
        "outputId": "1595ad84-1464-4c80-e5a5-bfb24bf4e3ec"
      },
      "execution_count": null,
      "outputs": [
        {
          "output_type": "stream",
          "name": "stdout",
          "text": [
            "Digite o 1 número: 2\n",
            "A soma dos divisores: 1\n",
            "Digite o 2 número: 5\n",
            "A soma dos divisores: 1\n",
            "Digite o 3 número: 8\n",
            "A soma dos divisores: 7\n",
            "Digite o 4 número: 6\n",
            "A soma dos divisores: 6\n",
            "Digite o 5 número: 4\n",
            "A soma dos divisores: 3\n"
          ]
        }
      ]
    },
    {
      "cell_type": "code",
      "source": [
        "# Crie um programa que verifica se um número digitado pelo usuário é primo.\n",
        "# Este programa deve ser baseado em uma função recursiva decideSePrimo().\n",
        "# Esta função recebe como parâmetros 2 valores: o número testado e um divisor. Então, retorna 1 se for primo ou 0 caso contrário. A função recursiva considera 3 situações:\n",
        "# (i) se divisor ==1, retorna 1\n",
        "# (ii) se número%divisor==0, retorna 0\n",
        "# (iii)caso contrário, retorna decideSePrimo(número, divisor-1)\n",
        "\n",
        "%%writefile epp3_4.c\n",
        "#include<stdio.h>\n",
        "int decideSePrimo(int num, int div) {\n",
        "  if (div == 1) {\n",
        "    return 1;\n",
        "  } else if (num % div == 0) {\n",
        "    return 0;\n",
        "  } else {\n",
        "    return decideSePrimo(num, (div-1));\n",
        "  }\n",
        "\n",
        "}\n",
        "int main(void) {\n",
        "  int n, res;\n",
        "  printf(\"Digite um valor inteiro: \");\n",
        "  scanf(\"%d\", &n);\n",
        "  int i = n - 1;\n",
        "  if (decideSePrimo(n, i) == 1) {\n",
        "    printf(\"O número %d é primo\", n);\n",
        "  } else {\n",
        "    printf(\"O número %d não é primo\", n);\n",
        "  }\n",
        "  return 0;\n",
        "}\n",
        "\n"
      ],
      "metadata": {
        "colab": {
          "base_uri": "https://localhost:8080/"
        },
        "id": "XxBicS9vFeUM",
        "outputId": "4ce69c6a-4d9a-4d2d-c912-e04ca4ae8e65"
      },
      "execution_count": null,
      "outputs": [
        {
          "output_type": "stream",
          "name": "stdout",
          "text": [
            "Overwriting epp3_4.c\n"
          ]
        }
      ]
    },
    {
      "cell_type": "code",
      "source": [
        "!gcc epp3_4.c -o epp3_4\n",
        "!./epp3_4"
      ],
      "metadata": {
        "colab": {
          "base_uri": "https://localhost:8080/"
        },
        "id": "oU9ZsXp_F5x7",
        "outputId": "979e7f51-8ec3-49a4-bdf5-777e6ed88a1f"
      },
      "execution_count": null,
      "outputs": [
        {
          "output_type": "stream",
          "name": "stdout",
          "text": [
            "Digite um valor inteiro: 229\n",
            "O número 229 é primo"
          ]
        }
      ]
    },
    {
      "cell_type": "code",
      "source": [
        "# Nesta tarefa você deve ajudar Zezinho a computar o valor da função T.\n",
        "# Para tanto, você deve desenvolver um programa que, usando um procedimento recursivo,\n",
        "# computa o valor de T(N) para um N dado na entrada, Voce deve utilizar obrigatoriamente uma função funcaoT recursiva.\n",
        "\n",
        "%%writefile epp3_5.c\n",
        "#include<stdio.h>\n",
        "int funcaoT(int N) {\n",
        "  if (N < 10) {\n",
        "    return 10;\n",
        "  } else {\n",
        "    return funcaoT(N / 5) + funcaoT(((7*N)/10)+1) + N;\n",
        "  }\n",
        "}\n",
        "int main(void) {\n",
        "  int num;\n",
        "  printf(\"Digite o valor de N: \");\n",
        "  scanf(\"%d\", &num);\n",
        "  printf(\"%d\", (funcaoT(num)));\n",
        "  return 0;\n",
        "\n",
        "}"
      ],
      "metadata": {
        "colab": {
          "base_uri": "https://localhost:8080/"
        },
        "id": "22RqOXxxJECw",
        "outputId": "fe58a379-9efb-4f58-fa48-e99488fc2529"
      },
      "execution_count": null,
      "outputs": [
        {
          "output_type": "stream",
          "name": "stdout",
          "text": [
            "Overwriting epp3_5.c\n"
          ]
        }
      ]
    },
    {
      "cell_type": "code",
      "source": [
        "!gcc epp3_5.c -o epp3_5\n",
        "!./epp3_5"
      ],
      "metadata": {
        "colab": {
          "base_uri": "https://localhost:8080/"
        },
        "id": "_uEKVr6gJUJz",
        "outputId": "6fca8208-dcb2-45f1-d49e-213fe5de2a3d"
      },
      "execution_count": null,
      "outputs": [
        {
          "output_type": "stream",
          "name": "stdout",
          "text": [
            "Digite o valor de N: 15\n",
            "56"
          ]
        }
      ]
    },
    {
      "cell_type": "code",
      "source": [
        "%%writefile exemplo.c\n",
        "#include<stdio.h>\n",
        "int somaVetor("
      ],
      "metadata": {
        "id": "z_8lc7wL40xK"
      },
      "execution_count": null,
      "outputs": []
    }
  ]
}