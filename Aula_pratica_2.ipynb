{
  "nbformat": 4,
  "nbformat_minor": 0,
  "metadata": {
    "colab": {
      "provenance": [],
      "authorship_tag": "ABX9TyNpXrCwFpE50XqQdJoDlN8X",
      "include_colab_link": true
    },
    "kernelspec": {
      "name": "python3",
      "display_name": "Python 3"
    },
    "language_info": {
      "name": "python"
    }
  },
  "cells": [
    {
      "cell_type": "markdown",
      "metadata": {
        "id": "view-in-github",
        "colab_type": "text"
      },
      "source": [
        "<a href=\"https://colab.research.google.com/github/Tiep7/P.E./blob/main/Aula_pratica_2.ipynb\" target=\"_parent\"><img src=\"https://colab.research.google.com/assets/colab-badge.svg\" alt=\"Open In Colab\"/></a>"
      ]
    },
    {
      "cell_type": "code",
      "execution_count": null,
      "metadata": {
        "colab": {
          "base_uri": "https://localhost:8080/"
        },
        "id": "nGhFus60WpuS",
        "outputId": "1ddacfa4-d3a3-4e14-df03-5343cf1c0732"
      },
      "outputs": [
        {
          "output_type": "stream",
          "name": "stdout",
          "text": [
            "Writing exemplo1.c\n"
          ]
        }
      ],
      "source": [
        "#Exemplo 1\n",
        "#Escreva um programa que lê um número inteiro do teclado e\n",
        "#imprime ”SIM” se o número for par e maior do que 10 ou se for\n",
        "#ímpar e menor do que 50. Caso contrário o programa deve\n",
        "#imprimir ”NAO”.\n",
        "\n",
        "%%writefile exemplo1.c\n",
        "#include<stdio.h>\n",
        "int main(void) {\n",
        "  int num;\n",
        "  scanf(\"%d\", &num);\n",
        "  if ( (num % 2 == 0 && num > 10) || (num % 2 != 0 && num < 50) )\n",
        "    printf(\"SIM\");\n",
        "  else\n",
        "    printf(\"NAO\");\n",
        "  return 0;\n",
        "}"
      ]
    },
    {
      "cell_type": "code",
      "source": [
        "!gcc exemplo1.c -o exemplo1\n",
        "!./exemplo1"
      ],
      "metadata": {
        "colab": {
          "base_uri": "https://localhost:8080/"
        },
        "id": "_TiGqxafYKxM",
        "outputId": "3302d6cc-b795-4a00-bd97-3fbf5b059093"
      },
      "execution_count": null,
      "outputs": [
        {
          "output_type": "stream",
          "name": "stdout",
          "text": [
            "15\n",
            "SIM"
          ]
        }
      ]
    },
    {
      "cell_type": "code",
      "source": [
        "#Exemplo 2\n",
        "#Escreva um programa lê três números e imprime o maior deles.\n",
        "\n",
        "%%writefile exemplo2.c\n",
        "#include<stdio.h>\n",
        "int main(void) {\n",
        "  int n1, n2, n3, maior;\n",
        "  scanf(\"%d\", &n1);\n",
        "  scanf(\"%d\", &n2);\n",
        "  scanf(\"%d\", &n3);\n",
        "  if (n1 > n2) {\n",
        "    if (n1 > n3)\n",
        "      maior = n1;\n",
        "    else\n",
        "      maior = n3;\n",
        "  }\n",
        "  else {\n",
        "    if (n2 > n3)\n",
        "      maior = n2;\n",
        "    else\n",
        "      maior = n3;\n",
        "  }\n",
        "  printf(\"Maior = %d\", maior);\n",
        "  return 0;\n",
        "}"
      ],
      "metadata": {
        "colab": {
          "base_uri": "https://localhost:8080/"
        },
        "id": "6wlgF36tYiDF",
        "outputId": "d58f9d68-dab3-42d5-b649-a3255f28f890"
      },
      "execution_count": null,
      "outputs": [
        {
          "output_type": "stream",
          "name": "stdout",
          "text": [
            "Writing exemplo2.c\n"
          ]
        }
      ]
    },
    {
      "cell_type": "code",
      "source": [
        "!gcc exemplo2.c -o exemplo2\n",
        "!./exemplo2"
      ],
      "metadata": {
        "colab": {
          "base_uri": "https://localhost:8080/"
        },
        "id": "2Ph74-C7bB4o",
        "outputId": "78109a47-f6be-4846-89bd-8505bf4a53b7"
      },
      "execution_count": null,
      "outputs": [
        {
          "output_type": "stream",
          "name": "stdout",
          "text": [
            "12\n",
            "54\n",
            "8\n",
            "Maior = 54"
          ]
        }
      ]
    },
    {
      "cell_type": "code",
      "source": [
        "#Exemplo 3\n",
        "#Faça um programa que mostre qual dos números (1, 2 ou 3) foi escolhido.\n",
        "\n",
        "%%writefile exemplo3.c\n",
        "#include<stdio.h>\n",
        "int main(void) {\n",
        "  int num;\n",
        "  printf(\"Digite um número(entre 1,2 e 3): \");\n",
        "  scanf(\"%d\", &num);\n",
        "  switch (num) {\n",
        "    case 1:\n",
        "      printf(\"O número 1 foi escolhido\\n\");\n",
        "      break;\n",
        "    case 2:\n",
        "      printf(\"O número 2 foi escolhido\\n\");\n",
        "      break;\n",
        "    case 3:\n",
        "      printf(\"O número 3 foi escolhido\\n\");\n",
        "      break;\n",
        "  }\n",
        "  return 0;\n",
        "\n",
        "}"
      ],
      "metadata": {
        "colab": {
          "base_uri": "https://localhost:8080/"
        },
        "id": "BpmecE6hbVVo",
        "outputId": "bf7d0e4e-5886-4a43-f345-859a23d54050"
      },
      "execution_count": null,
      "outputs": [
        {
          "output_type": "stream",
          "name": "stdout",
          "text": [
            "Writing exemplo3.c\n"
          ]
        }
      ]
    },
    {
      "cell_type": "code",
      "source": [
        "!gcc exemplo3.c -o exemplo3\n",
        "!./exemplo3"
      ],
      "metadata": {
        "colab": {
          "base_uri": "https://localhost:8080/"
        },
        "id": "CMXzzzZpcdOJ",
        "outputId": "60df424a-f976-4800-8d05-4728ae1ba18e"
      },
      "execution_count": null,
      "outputs": [
        {
          "output_type": "stream",
          "name": "stdout",
          "text": [
            "Digite um número(entre 1,2 e 3): 1\n",
            "O número 1 foi escolhido\n"
          ]
        }
      ]
    },
    {
      "cell_type": "code",
      "source": [
        "#Exemplo 4\n",
        "#Quando ações são vendidas ou compradas por meio de um corretor,\n",
        "#a comissão do corretor é muitas vezes calculada usando uma escala que depende do valor das ações negociadas.\n",
        "#Escreva um programa que calcule o valor da comissão a partir do valor da transação informado pelo usuário,\n",
        "#sabendo-se que o corretor cobra os valores indicados abaixo e que a comissão mínima é de R$ 39,00:\n",
        "\n",
        "#Até R$ 2.500,00, comissão de R$30+1,7%\n",
        "#R$2.500,01 até R$6.250,00, comissão de R$56 + 0,66%\n",
        "#R$6.250,01 até R$20.000,00, comissão de R$76 + 0,34%\n",
        "#R$20.000,01 até R$50.000,00, comissão de R$100 + 0,22%\n",
        "#R$50.000,01 até R$500.000,00, comissão de R$155 + 0,11%\n",
        "#Mais que R$ 500.000,00, comissão de R$255 + 0,09%\n",
        "\n",
        "%%writefile exemplo4.c\n",
        "#include<stdio.h>\n",
        "int main(void) {\n",
        "  float t, c;\n",
        "  scanf(\"%f\", &t);\n",
        "  if (t <= 2500) {\n",
        "    c = 30 + t * 0.017;\n",
        "  } else if (t > 2500 && t <= 6250) {\n",
        "    c = 56 + t * 0.0066;\n",
        "  } else if (t > 6250 && t <= 20000) {\n",
        "    c = 76 + t * 0.0034;\n",
        "  } else if (t > 20000 && t <= 50000) {\n",
        "    c = 100 + t * 0.0022;\n",
        "  } else if (t > 50000 && t <= 500000) {\n",
        "    c = 155 + t * 0.0011;\n",
        "  } else {\n",
        "    c = 255 + t * 0.0009;\n",
        "  }\n",
        "  if (c < 39) {\n",
        "    c = 39;\n",
        "  }\n",
        "  printf(\"O valor da comissão é R$ %.2f\", c);\n",
        "  return 0;\n",
        "}"
      ],
      "metadata": {
        "colab": {
          "base_uri": "https://localhost:8080/"
        },
        "id": "rWkb5DhVdf8n",
        "outputId": "1ff2c059-880d-4bb9-e9f0-f08ae02fcdb8"
      },
      "execution_count": null,
      "outputs": [
        {
          "output_type": "stream",
          "name": "stdout",
          "text": [
            "Writing exemplo4.c\n"
          ]
        }
      ]
    },
    {
      "cell_type": "code",
      "source": [
        "!gcc exemplo4.c -o exemplo4\n",
        "!./exemplo4"
      ],
      "metadata": {
        "colab": {
          "base_uri": "https://localhost:8080/"
        },
        "id": "4wu30RMOhh6E",
        "outputId": "5424e13a-2bda-41c3-f5d2-caacda93cf40"
      },
      "execution_count": null,
      "outputs": [
        {
          "output_type": "stream",
          "name": "stdout",
          "text": [
            "1254\n",
            "O valor da comissão é R$ 51.32"
          ]
        }
      ]
    },
    {
      "cell_type": "code",
      "source": [
        "#Exemplo 5\n",
        "#Faça um programa que leia uma temperatura em Celsius e devolva a temperatura correspondente em Fahrenheit.\n",
        "\n",
        "%%writefile exemplo5.c\n",
        "#include<stdio.h>\n",
        "int main(void) {\n",
        "  float celsius, f;\n",
        "  scanf(\"%f\", &celsius);\n",
        "  f = celsius * 1.8 + 32;\n",
        "  printf(\"A temperatura em Fahrenheit é %.2f graus\", f);\n",
        "  return 0;\n",
        "}"
      ],
      "metadata": {
        "colab": {
          "base_uri": "https://localhost:8080/"
        },
        "id": "YbNhvRnAiKT0",
        "outputId": "2f04f032-f745-4344-8afe-cca0416c7b80"
      },
      "execution_count": null,
      "outputs": [
        {
          "output_type": "stream",
          "name": "stdout",
          "text": [
            "Writing exemplo5.c\n"
          ]
        }
      ]
    },
    {
      "cell_type": "code",
      "source": [
        "!gcc exemplo5.c -o exemplo5\n",
        "!./exemplo5"
      ],
      "metadata": {
        "colab": {
          "base_uri": "https://localhost:8080/"
        },
        "id": "NAzEhSKmi-W2",
        "outputId": "dbba44c2-8708-4bcd-8f53-64ba8e9bd51a"
      },
      "execution_count": null,
      "outputs": [
        {
          "output_type": "stream",
          "name": "stdout",
          "text": [
            "34\n",
            "A temperatura em Fahrenheit é 93.20 graus"
          ]
        }
      ]
    },
    {
      "cell_type": "code",
      "source": [
        "#Exemplo 6\n",
        "#Escreva um programa que ler um inteiro positivo n, em seguida, ler n números do teclado e apresentar a soma destes.\n",
        "\n",
        "%%writefile exemplo6.c\n",
        "#include<stdio.h>\n",
        "int main(void) {\n",
        "  int valor, n, soma = 0;\n",
        "  printf(\"Digite a quantidade de números: \");\n",
        "  scanf(\"%d\", &n);\n",
        "  for (int i = 1; i <= n; i++){\n",
        "    printf(\"Digite um novo número: \");\n",
        "    scanf(\"%d\", &valor);\n",
        "    soma = soma + valor;\n",
        "  }\n",
        "  printf(\"Soma: %d\", soma);\n",
        "  return 0;\n",
        "}"
      ],
      "metadata": {
        "colab": {
          "base_uri": "https://localhost:8080/"
        },
        "id": "Rpj5u4mDkAlx",
        "outputId": "c9269d88-b26b-4275-ede9-5d7de9501cc1"
      },
      "execution_count": null,
      "outputs": [
        {
          "output_type": "stream",
          "name": "stdout",
          "text": [
            "Writing exemplo6.c\n"
          ]
        }
      ]
    },
    {
      "cell_type": "code",
      "source": [
        "!gcc exemplo6.c -o exemplo6\n",
        "!./exemplo6"
      ],
      "metadata": {
        "colab": {
          "base_uri": "https://localhost:8080/"
        },
        "id": "CoZYYTovk3zk",
        "outputId": "1fa03449-5f87-4349-e537-ff3e31b51b37"
      },
      "execution_count": null,
      "outputs": [
        {
          "output_type": "stream",
          "name": "stdout",
          "text": [
            "Digite a quantidade de números: 3\n",
            "Digite um novo número: 12\n",
            "Digite um novo número: 13\n",
            "Digite um novo número: 14\n",
            "Soma: 39"
          ]
        }
      ]
    },
    {
      "cell_type": "code",
      "source": [
        "#  exemplo 7\n",
        "# Calcular a divisão inteira de dois números usando apenas soma e subtração.\n",
        "%%writefile exemplo7.c\n",
        "#include <stdio.h>\n",
        "\n",
        "int main() {\n",
        "    int n1, n2, d = 0;\n",
        "    printf(\"Digite 2 números: \");\n",
        "    scanf(\"%d %d\", &n1, &n2);\n",
        "    int resto = n1;\n",
        "    while (resto >= n2) {\n",
        "        resto = resto - n2;\n",
        "        d++;\n",
        "    }\n",
        "    printf(\"O valor da divisão de %d por %d eh igual a %d\", n1, n2, d);\n",
        "\n",
        "    return 0;\n",
        "}"
      ],
      "metadata": {
        "id": "Srkx5ufUlHVh"
      },
      "execution_count": null,
      "outputs": []
    },
    {
      "cell_type": "code",
      "source": [
        "!gcc exemplo7.c -o exemplo7\n",
        "!./exemplo7"
      ],
      "metadata": {
        "id": "weLA7By0lN__"
      },
      "execution_count": null,
      "outputs": []
    },
    {
      "cell_type": "code",
      "source": [
        "# exemplo 8\n",
        "# Determinar se um número n é primo ou não. Lembre-se\n",
        "# que um número é primo se seus únicos divisores são 1 e\n",
        "# ele mesmo.\n",
        "%%writefile exemplo8.c\n",
        "#include<stdio.h>\n",
        "int main(void) {\n",
        "  int num, n = 0;\n",
        "  scanf(\"%d\", &num);\n",
        "  for (int i = 1; i <= num; i++) {\n",
        "    if (num % i == 0) {\n",
        "      n++;\n",
        "    }\n",
        "  }\n",
        "  if (n <= 2) {\n",
        "    printf(\"O número %d é primo\", num);\n",
        "  } else {\n",
        "    printf(\"O número %d não é primo\", num);\n",
        "  }\n",
        "  return 0;\n",
        "}"
      ],
      "metadata": {
        "colab": {
          "base_uri": "https://localhost:8080/"
        },
        "id": "fwAPvUZcldME",
        "outputId": "e9451fb5-e063-40ca-e116-2ed8900f9503"
      },
      "execution_count": null,
      "outputs": [
        {
          "output_type": "stream",
          "name": "stdout",
          "text": [
            "Overwriting exemplo8.c\n"
          ]
        }
      ]
    },
    {
      "cell_type": "code",
      "source": [
        "!gcc exemplo8.c -o exemplo8\n",
        "!./exemplo8"
      ],
      "metadata": {
        "colab": {
          "base_uri": "https://localhost:8080/"
        },
        "id": "Xo4X9WwDmc_2",
        "outputId": "f912f465-1c13-4f6b-b966-61cbf3f9dcea"
      },
      "execution_count": null,
      "outputs": [
        {
          "output_type": "stream",
          "name": "stdout",
          "text": [
            "4\n",
            "O número 4 não é primo"
          ]
        }
      ]
    },
    {
      "cell_type": "code",
      "source": [
        "# exemplo 9\n",
        "# Faça um programa que lê n números do teclado e\n",
        "# informa qual foi o maior número lido.\n",
        "%%writefile exemplo9.c\n",
        "#include<stdio.h>\n",
        "int main(void) {\n",
        "  int n, num, maior = 0;\n",
        "  printf(\"Digite quantos números serão lidos: \");\n",
        "  scanf(\"%d\", &n);\n",
        "  for (int i = 0; i < n; i++) {\n",
        "    scanf(\"%d\", &num);\n",
        "    if (num > maior) {\n",
        "      maior = num;\n",
        "    }\n",
        "  }\n",
        "  printf(\"O maior número foi %d\", maior);\n",
        "  return 0;\n",
        "}"
      ],
      "metadata": {
        "colab": {
          "base_uri": "https://localhost:8080/"
        },
        "id": "0fl953b_nL97",
        "outputId": "424bf390-813a-4b40-abc0-e1c535b418ac"
      },
      "execution_count": null,
      "outputs": [
        {
          "output_type": "stream",
          "name": "stdout",
          "text": [
            "Overwriting exemplo9.c\n"
          ]
        }
      ]
    },
    {
      "cell_type": "code",
      "source": [
        "!gcc exemplo9.c -o exemplo9\n",
        "!./exemplo9"
      ],
      "metadata": {
        "colab": {
          "base_uri": "https://localhost:8080/"
        },
        "id": "ktdU9I7RnyaH",
        "outputId": "ce371d6c-57e1-4385-8c91-8f4ccbbd6cf4"
      },
      "execution_count": null,
      "outputs": [
        {
          "output_type": "stream",
          "name": "stdout",
          "text": [
            "Digite quantos números serão lidos: 3\n",
            "2\n",
            "4\n",
            "1\n",
            "O maior número foi 4"
          ]
        }
      ]
    },
    {
      "cell_type": "code",
      "source": [
        "# exemplo 10\n",
        "# Faça um programa que leia n números inteiros do\n",
        "# teclado, e no final informe se os números lidos estão ou\n",
        "# não em ordem crescente.\n",
        "%%writefile exemplo10.c\n",
        "#include<stdio.h>\n",
        "int main(void) {\n",
        "  int n, atual, anterior = -1, ordenado, i = 0;\n",
        "  printf(\"Digite n: \");\n",
        "  scanf(\"%d\", &n);\n",
        "  ordenado = 1;\n",
        "  do {\n",
        "    scanf(\"%d\", &atual);\n",
        "    i++;\n",
        "    if (atual < anterior) {\n",
        "      ordenado = 0;\n",
        "    }\n",
        "    anterior = atual;\n",
        "  } while (i < n);\n",
        "  if (ordenado == 1) {\n",
        "    printf(\"A sequencia esta em ordem crescente\");\n",
        "  } else {\n",
        "    printf(\"A sequencia não esta ordenada\");\n",
        "  }\n",
        "  return 0;\n",
        "}"
      ],
      "metadata": {
        "colab": {
          "base_uri": "https://localhost:8080/"
        },
        "id": "owZ_LElxoUJH",
        "outputId": "fb80774a-a970-4375-b3a4-f94df7c3c79b"
      },
      "execution_count": null,
      "outputs": [
        {
          "output_type": "stream",
          "name": "stdout",
          "text": [
            "Overwriting exemplo10.c\n"
          ]
        }
      ]
    },
    {
      "cell_type": "code",
      "source": [
        "!gcc exemplo10.c -o exemplo10\n",
        "!./exemplo10"
      ],
      "metadata": {
        "colab": {
          "base_uri": "https://localhost:8080/"
        },
        "id": "jnogNRHgpxDt",
        "outputId": "53a66659-7766-40aa-dc1d-81317a2bb5b4"
      },
      "execution_count": null,
      "outputs": [
        {
          "output_type": "stream",
          "name": "stdout",
          "text": [
            "Digite n: 3\n",
            "21\n",
            "15\n",
            "22\n",
            "A sequencia não esta ordenada"
          ]
        }
      ]
    },
    {
      "cell_type": "code",
      "source": [
        "# Criar um programa que indique o conceito de um aluno com base em sua nota seguindo a regra da tabela abaixo.\n",
        "# O programa deve pedir o valor da nota e transformá-lo em um conceito de “A” a “F”. Dependendo do conceito, uma mensagem deve ser exibida (Conceito A - desempenho excepcional).\n",
        "%%writefile epp2_1.c\n",
        "#include<stdio.h>\n",
        "int main(void) {\n",
        "  float nota;\n",
        "  printf(\"Digite sua nota: \");\n",
        "  scanf(\"%f\", &nota);\n",
        "  if (nota > 8.5) {\n",
        "    printf(\"conceito A - desempenho excepcional\");\n",
        "  } else if (nota <= 8.5 && nota > 7.0) {\n",
        "    printf(\"conceito B - bom desempenho\");\n",
        "  } else if (nota <= 7.0 && nota >= 6.0) {\n",
        "    printf(\"conceito C - desempenho adequado\");\n",
        "  } else if (nota < 6.0 && nota >= 5.0) {\n",
        "    printf(\"conceito D - desempenho minímo\");\n",
        "  } else {\n",
        "    printf(\"conceito F - reprovado\");\n",
        "  }\n",
        "  return 0;\n",
        "\n",
        "}"
      ],
      "metadata": {
        "colab": {
          "base_uri": "https://localhost:8080/"
        },
        "id": "k8SPdiJOadPC",
        "outputId": "dd81279c-8d22-4820-be53-ea76598b1530"
      },
      "execution_count": null,
      "outputs": [
        {
          "output_type": "stream",
          "name": "stdout",
          "text": [
            "Overwriting epp2_1.c\n"
          ]
        }
      ]
    },
    {
      "cell_type": "code",
      "source": [
        "!gcc epp2_1.c -o epp2_1\n",
        "!./epp2_1"
      ],
      "metadata": {
        "colab": {
          "base_uri": "https://localhost:8080/"
        },
        "id": "ePZHUpl5cIiQ",
        "outputId": "00d552c5-49c8-4bce-8d77-ae492b6a91a1"
      },
      "execution_count": null,
      "outputs": [
        {
          "output_type": "stream",
          "name": "stdout",
          "text": [
            "Digite sua nota: 4.5\n",
            "conceito F - reprovado"
          ]
        }
      ]
    },
    {
      "cell_type": "code",
      "source": [
        "# Crie um programa que use a instrução “for” para identificar os divisores de um número inteiro.\n",
        "# O usuário deverá fornecer um valor inteiro e o programa deverá retornar a mensagem “O número X é divisível por Y” para cada Y divisor de X.\n",
        "# Se X for primo (divisível apenas por 1 e por ele mesmo), além dos divisores o programa deverá exibir a mensagem: \"O número X é primo.\".\n",
        "\n",
        "%%writefile epp2_2.c\n",
        "#include<stdio.h>\n",
        "int main(void) {\n",
        "  int n, aux = 0;\n",
        "  printf(\"Digite um número inteiro: \");\n",
        "  scanf(\"%d\", &n);\n",
        "  for (int i = 1; i <= n; i++) {\n",
        "    if ( n % i == 0) {\n",
        "      aux++;\n",
        "      printf(\"O número %d é divisível por %d\\n\", n, i);\n",
        "    }\n",
        "  }\n",
        "  if (aux <= 2) {\n",
        "    printf(\"O número %d é primo\", n);\n",
        "  }\n",
        "  return 0;\n",
        "}"
      ],
      "metadata": {
        "colab": {
          "base_uri": "https://localhost:8080/"
        },
        "id": "Mz42XIaHcra0",
        "outputId": "11b0f86f-5b89-4322-a194-2164e6c2fe06"
      },
      "execution_count": null,
      "outputs": [
        {
          "output_type": "stream",
          "name": "stdout",
          "text": [
            "Overwriting epp2_2.c\n"
          ]
        }
      ]
    },
    {
      "cell_type": "code",
      "source": [
        "!gcc epp2_2.c -o epp2_2\n",
        "!./epp2_2"
      ],
      "metadata": {
        "colab": {
          "base_uri": "https://localhost:8080/"
        },
        "id": "ZJxHIMgAdzsf",
        "outputId": "25f405a8-1d98-428d-8dc7-99bfe80ffcab"
      },
      "execution_count": null,
      "outputs": [
        {
          "output_type": "stream",
          "name": "stdout",
          "text": [
            "Digite um número inteiro: 7\n",
            "O número 7 é divisível por 1\n",
            "O número 7 é divisível por 7\n",
            "O número 7 é primo"
          ]
        }
      ]
    },
    {
      "cell_type": "code",
      "source": [
        "# Crie um programa que retorne o fatorial  de um número inteiro fornecido pelo usuário usando a instrução “while”.\n",
        "\n",
        "%%writefile epp2_3.c\n",
        "#include<stdio.h>\n",
        "int main(void) {\n",
        "  int n,i = 1, fatorial = 1;\n",
        "  printf(\"Digite um número inteiro: \");\n",
        "  scanf(\"%d\", &n);\n",
        "  while (i <= n) {\n",
        "    fatorial = fatorial * i;\n",
        "    i++;\n",
        "  }\n",
        "  printf(\"%d\", fatorial);\n",
        "  return 0;\n",
        "}"
      ],
      "metadata": {
        "colab": {
          "base_uri": "https://localhost:8080/"
        },
        "id": "tt7QklTreflg",
        "outputId": "2691171f-4aed-45d2-d7b9-2cd94f9c0a31"
      },
      "execution_count": null,
      "outputs": [
        {
          "output_type": "stream",
          "name": "stdout",
          "text": [
            "Overwriting epp2_3.c\n"
          ]
        }
      ]
    },
    {
      "cell_type": "code",
      "source": [
        "!gcc epp2_3.c -o epp2_3\n",
        "!./epp2_3"
      ],
      "metadata": {
        "colab": {
          "base_uri": "https://localhost:8080/"
        },
        "id": "3JLI1_orswaD",
        "outputId": "c830a2ce-08e1-432b-f7cb-2d529388d0ea"
      },
      "execution_count": null,
      "outputs": [
        {
          "output_type": "stream",
          "name": "stdout",
          "text": [
            "Digite um número inteiro: 10\n",
            "3628800"
          ]
        }
      ]
    },
    {
      "cell_type": "code",
      "source": [
        "# Crie um programa que retorne a média aritmética de N valores reais positivos fornecidos pelo usuário usando a instrução “do/while”.\n",
        "# O programa deve requisitar a entrada de valores e armazenar a SOMA dos valores a medida que estes forem fornecidos, bem como a QUANTIDADE de valores digitados.\n",
        "# O processo deve se repetir (“do-while”) até que o valor -1 seja digitado.\n",
        "# Só então o programa deverá retornar a média, que será a soma dos valores dividida pela quantidade de valores digitados.\n",
        "\n",
        "%%writefile epp2_4.c\n",
        "#include<stdio.h>\n",
        "int main(void) {\n",
        "  float n, soma = 0, i = 0;\n",
        "  printf(\"Digite valores positivos ou -1 para sair: \");\n",
        "  do {\n",
        "    scanf(\"%f\", &n);\n",
        "    soma = soma + n;\n",
        "    i++;\n",
        "  } while (n != -1); {\n",
        "    soma++;\n",
        "    i--;\n",
        "  }\n",
        "  printf(\"A média é: %f\", (soma / i));\n",
        "  return 0;\n",
        "}"
      ],
      "metadata": {
        "colab": {
          "base_uri": "https://localhost:8080/"
        },
        "id": "Bf2tlbpGuNKK",
        "outputId": "510ecfce-99cd-4b4b-a034-93149bf032f1"
      },
      "execution_count": null,
      "outputs": [
        {
          "output_type": "stream",
          "name": "stdout",
          "text": [
            "Overwriting epp2_4.c\n"
          ]
        }
      ]
    },
    {
      "cell_type": "code",
      "source": [
        "!gcc epp2_4.c -o epp2_4\n",
        "!./epp2_4"
      ],
      "metadata": {
        "colab": {
          "base_uri": "https://localhost:8080/"
        },
        "id": "Uu8OkN3XvazN",
        "outputId": "46c48068-ef1a-4689-f797-a9ca38777199"
      },
      "execution_count": null,
      "outputs": [
        {
          "output_type": "stream",
          "name": "stdout",
          "text": [
            "Digite valores positivos ou -1 para sair: 1\n",
            "2\n",
            "3\n",
            "4\n",
            "\n",
            "5\n",
            "-1\n",
            "A média é: 3.000000"
          ]
        }
      ]
    },
    {
      "cell_type": "code",
      "source": [
        "# Neste laboratório, seu objetivo é ajudar os generais gregos.\n",
        "# Para tanto, você deve escrever um programa em linguagem C, que avalia se uma determinada cidade deve ou não ser atacada.\n",
        "# Seu programa receberá um número inteiro representando o valor do perímetro da cidade alvo e deve determinar se seu perímetro é triangular e/ou perfeito.\n",
        "\n",
        "%%writefile epp2_5.c\n",
        "#include<stdio.h>\n",
        "int main(void) {\n",
        "    int perimetro, soma1 = 0, aux, n, perfeito, triangular;\n",
        "    printf(\"Digite o perimetro: \");\n",
        "    scanf(\"%d\", &perimetro);\n",
        "    for (int i = 1; i < perimetro; i++) {\n",
        "        aux = perimetro % i;\n",
        "        if (aux == 0) {\n",
        "            soma1 = soma1 + i;\n",
        "            }\n",
        "        }\n",
        "    if (perimetro == soma1) {\n",
        "        perfeito = 0;\n",
        "    } else {\n",
        "        perfeito = 1;\n",
        "    }\n",
        "    for(n = 1 ; (n*(n+1))<=(perimetro*2) ; n++){\n",
        "        if((n*(n+1)/2)==perimetro){\n",
        "            triangular = 0;\n",
        "        } else {\n",
        "            triangular = 1;\n",
        "        }\n",
        "    }\n",
        "    printf(\"%d\\n\", perimetro);\n",
        "    if (perfeito == 1 && triangular == 1) {\n",
        "        printf(\"Atacar\");\n",
        "    } else if ((perfeito == 0 && triangular == 1) || (perfeito == 1 && triangular == 0)) {\n",
        "        printf(\"Pensar\");\n",
        "    } else {\n",
        "        printf(\"Paz\");\n",
        "    }\n",
        "    return 0;\n",
        "    }"
      ],
      "metadata": {
        "id": "_CLGKuWiTR4b",
        "colab": {
          "base_uri": "https://localhost:8080/"
        },
        "outputId": "4ba78316-7cd5-4064-85af-f2b0513a6d58"
      },
      "execution_count": null,
      "outputs": [
        {
          "output_type": "stream",
          "name": "stdout",
          "text": [
            "Writing epp2_5.c\n"
          ]
        }
      ]
    },
    {
      "cell_type": "code",
      "source": [
        "!gcc epp2_5.c -o epp2_5\n",
        "!./epp2_5"
      ],
      "metadata": {
        "id": "xl7tPoADSeiT",
        "colab": {
          "base_uri": "https://localhost:8080/"
        },
        "outputId": "f7ee489e-7039-45e1-9cc9-eb64fe54c246"
      },
      "execution_count": null,
      "outputs": [
        {
          "output_type": "stream",
          "name": "stdout",
          "text": [
            "Digite o perimetro: 40\n",
            "40\n",
            "Atacar"
          ]
        }
      ]
    },
    {
      "cell_type": "code",
      "source": [
        "# exercício 1\n",
        "# Faça um programa que leia 2 números a e b e calcule a solução da equação de\n",
        "# primeiro grau ax + b = 0, que vale x = −(b/a). Além disso, seu programa deve\n",
        "# imprimir mensagens de acordo com os casos:\n",
        "# 1. A equação não admite solução;\n",
        "# 2. A equação admite infinitas soluções.\n",
        "\n",
        "%%writefile ex1.c\n",
        "#include<stdio.h>\n",
        "int main(void) {\n",
        "  float a, b, x;\n",
        "  printf(\"Digite dois números a e b: \");\n",
        "  scanf(\"%f %f\", &a, &b);\n",
        "  x = -(b / a);\n",
        "  if (((a * x) + b) == 0) {\n",
        "    printf(\"A equação admite infinitas soluções\");\n",
        "  } else {\n",
        "    printf(\"A equação não admite solução\");\n",
        "  }\n",
        "  return 0;\n",
        "}"
      ],
      "metadata": {
        "colab": {
          "base_uri": "https://localhost:8080/"
        },
        "id": "5UfJIweZVn-K",
        "outputId": "f73b9caf-cdf1-4758-bade-c2e5a4108a6c"
      },
      "execution_count": null,
      "outputs": [
        {
          "output_type": "stream",
          "name": "stdout",
          "text": [
            "Overwriting ex1.c\n"
          ]
        }
      ]
    },
    {
      "cell_type": "code",
      "source": [
        "!gcc ex1.c -o ex1\n",
        "!./ex1"
      ],
      "metadata": {
        "colab": {
          "base_uri": "https://localhost:8080/"
        },
        "id": "3LbHB_DZWyih",
        "outputId": "f0be5b8a-a681-454e-82e6-9c9e97d2edf5"
      },
      "execution_count": null,
      "outputs": [
        {
          "output_type": "stream",
          "name": "stdout",
          "text": [
            "Digite dois números a e b: 2\n",
            "4\n",
            "A equação admite infinitas soluções"
          ]
        }
      ]
    },
    {
      "cell_type": "code",
      "source": [
        "# exercício 2\n",
        "# Faça um programa que calcula o volume de um hiper-retângulo de N\n",
        "# dimensões. Seu programa deve ler os N lados do retângulo, cada um\n",
        "# correspondente a uma dimensão, mas o valor de N não é conhecido\n",
        "# antecipadamente. O final dos dados é indicado pelo número 0. Seu programa\n",
        "# deve imprimir o número de dimensões e o volume correspondente naquela\n",
        "# dimensão.\n",
        "\n",
        "%%writefile ex2.c\n",
        "#include <stdio.h>\n",
        "int main(void) {\n",
        "  int N, volume = 1, lado;\n",
        "  do {\n",
        "    printf(\"Digite os lados do retângulo: \");\n",
        "    scanf(\"%d\", &lado);\n",
        "    if (lado != 0) {\n",
        "      volume *= lado;\n",
        "      N++;\n",
        "    }\n",
        "  }\n",
        "  while (lado != 0);\n",
        "  printf(\"O retângulo de %d dimensões tem volume %d\", N, volume);\n",
        "  return 0;\n",
        "}\n"
      ],
      "metadata": {
        "colab": {
          "base_uri": "https://localhost:8080/"
        },
        "id": "A_6EoDENX7lL",
        "outputId": "8cb1e84c-37c9-471e-b38e-59d5163733fb"
      },
      "execution_count": null,
      "outputs": [
        {
          "output_type": "stream",
          "name": "stdout",
          "text": [
            "Overwriting ex2.c\n"
          ]
        }
      ]
    },
    {
      "cell_type": "code",
      "source": [
        "!gcc ex2.c -o ex2\n",
        "!./ex2"
      ],
      "metadata": {
        "colab": {
          "base_uri": "https://localhost:8080/"
        },
        "id": "o9jQp_zsayKm",
        "outputId": "3c41184f-e486-47e1-cac0-26366a8645cd"
      },
      "execution_count": null,
      "outputs": [
        {
          "output_type": "stream",
          "name": "stdout",
          "text": [
            "Digite os lados do retângulo: 2\n",
            "Digite os lados do retângulo: 1\n",
            "Digite os lados do retângulo: 0\n",
            "O retângulo de 2 dimensões tem volume 2"
          ]
        }
      ]
    }
  ]
}