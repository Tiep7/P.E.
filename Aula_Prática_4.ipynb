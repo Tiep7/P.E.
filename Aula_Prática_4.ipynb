{
  "nbformat": 4,
  "nbformat_minor": 0,
  "metadata": {
    "colab": {
      "provenance": [],
      "authorship_tag": "ABX9TyOwlgxd2auo/mXoeIvtdBXt",
      "include_colab_link": true
    },
    "kernelspec": {
      "name": "python3",
      "display_name": "Python 3"
    },
    "language_info": {
      "name": "python"
    }
  },
  "cells": [
    {
      "cell_type": "markdown",
      "metadata": {
        "id": "view-in-github",
        "colab_type": "text"
      },
      "source": [
        "<a href=\"https://colab.research.google.com/github/Tiep7/Programacao_estrutura-linguagem_c/blob/main/Aula_Pr%C3%A1tica_4.ipynb\" target=\"_parent\"><img src=\"https://colab.research.google.com/assets/colab-badge.svg\" alt=\"Open In Colab\"/></a>"
      ]
    },
    {
      "cell_type": "code",
      "source": [
        "# exemplo 1\n",
        "# Ler dois vetores de dimensão 5 e computar o produto\n",
        "# interno (produto escalar) deles.\n",
        "%%writefile exemplo1.c\n",
        "#include<stdio.h>\n",
        "int main(void) {\n",
        "  float v1[5];\n",
        "  float v2[5];\n",
        "  float p = 0;\n",
        "  printf(\"Digite os elementos do vetor1: \");\n",
        "  for (int i = 0; i < 5; i++) {\n",
        "    scanf(\"%f\", &v1[i]);\n",
        "  }\n",
        "  printf(\"Digite os elementos do vetor2: \");\n",
        "  for (int i = 0; i < 5; i++) {\n",
        "    scanf(\"%f\", &v2[i]);\n",
        "  }\n",
        "  for (int i = 0; i < 5; i++) {\n",
        "    p = p + v1[i] * v2[i];\n",
        "  }\n",
        "  printf(\"O produto interno deles é: %.2f\", p);\n",
        "  return 0;\n",
        "}"
      ],
      "metadata": {
        "colab": {
          "base_uri": "https://localhost:8080/"
        },
        "id": "yZvBplnp26se",
        "outputId": "522c6d3d-190d-499d-da49-f85ae953c7a7"
      },
      "execution_count": null,
      "outputs": [
        {
          "output_type": "stream",
          "name": "stdout",
          "text": [
            "Overwriting exemplo1.c\n"
          ]
        }
      ]
    },
    {
      "cell_type": "code",
      "source": [
        "!gcc exemplo1.c -o exemplo1\n",
        "!./exemplo1"
      ],
      "metadata": {
        "colab": {
          "base_uri": "https://localhost:8080/"
        },
        "id": "sA8Y1ByR4kgF",
        "outputId": "94a5aaa2-26c6-4307-d68e-8c6c78734edc"
      },
      "execution_count": null,
      "outputs": [
        {
          "output_type": "stream",
          "name": "stdout",
          "text": [
            "Digite os elementos do vetor1: 1\n",
            "2\n",
            "3\n",
            "4\n",
            "5\n",
            "Digite os elementos do vetor2: 1\n",
            "2\n",
            "3\n",
            "4\n",
            "5\n",
            "O produto interno deles é: 55.00"
          ]
        }
      ]
    },
    {
      "cell_type": "code",
      "source": [
        "# exemplo 2\n",
        "# Leia dois vetores com 5 números reais cada. Verifique\n",
        "# quais elementos do segundo vetor são iguais a algum\n",
        "# elemento do primeiro vetor. Se não houver elementos\n",
        "# em comum, o programa deve informar.\n",
        "%%writefile exemplo2.c\n",
        "#include<stdio.h>\n",
        "int main(void) {\n",
        "  float v1[5];  float v2[5];\n",
        "  printf(\"Digite os elementos do vetor1: \");\n",
        "  for (int i = 0; i < 5; i++) {\n",
        "    scanf(\"%f\", &v1[i]);\n",
        "  }\n",
        "  printf(\"Digite os elementos do vetor2: \");\n",
        "  for (int i = 0; i < 5; i++) {\n",
        "    scanf(\"%f\", &v2[i]);\n",
        "  }\n",
        "  float comum = 0;\n",
        "  for (int i = 0; i < 5; i++) {\n",
        "    for (int j = 0; j < 5; j++) {\n",
        "      if (v1[i] == v2[j]) {\n",
        "        printf(\"v1[%d] == v2[%d]\\n\", i, j);\n",
        "        comum++;\n",
        "      }\n",
        "      }\n",
        "    }\n",
        "    if (comum == 0) {\n",
        "      printf(\"Nenhum em comum\");\n",
        "    }\n",
        "  return 0;\n",
        "  }\n",
        "\n",
        "\n"
      ],
      "metadata": {
        "colab": {
          "base_uri": "https://localhost:8080/"
        },
        "id": "kYHzhwMR5dVb",
        "outputId": "676d9101-79d4-427b-fef5-941e1f1e9ece"
      },
      "execution_count": null,
      "outputs": [
        {
          "output_type": "stream",
          "name": "stdout",
          "text": [
            "Overwriting exemplo2.c\n"
          ]
        }
      ]
    },
    {
      "cell_type": "code",
      "source": [
        "!gcc exemplo2.c -o exemplo2\n",
        "!./exemplo2"
      ],
      "metadata": {
        "colab": {
          "base_uri": "https://localhost:8080/"
        },
        "id": "3dXqRtuC65wN",
        "outputId": "3dc7d2fd-ef6e-47dc-f118-40d16e67ca06"
      },
      "execution_count": null,
      "outputs": [
        {
          "output_type": "stream",
          "name": "stdout",
          "text": [
            "Digite os elementos do vetor1: 1\n",
            "2\n",
            "3\n",
            "4\n",
            "5\n",
            "Digite os elementos do vetor2: 0\n",
            "0\n",
            "0\n",
            "0\n",
            "0\n",
            "Nenhum em comum"
          ]
        }
      ]
    },
    {
      "cell_type": "code",
      "source": [
        "# exemplo 3\n",
        "# Ler uma string de até 79 caracteres (incluindo ‘\\n’) e\n",
        "# imprimir sua inversa.\n",
        "%%writefile exemplo3.c\n",
        "#include<stdio.h>\n",
        "int main(void) {\n",
        "  char str[80];\n",
        "  char inv_str[80];\n",
        "  int i, fim = 0;\n",
        "  printf(\"Digite uma string: \");\n",
        "  fgets(str, 80, stdin);\n",
        "  while (str[fim] != '\\0' && str[fim] != '\\n') {\n",
        "    fim++;\n",
        "  }\n",
        "  for (i = 0; i < fim; i++) {\n",
        "    inv_str[i] = str[fim - i - 1];\n",
        "  }\n",
        "  printf(\"String inversa %s\", inv_str);\n",
        "  return 0;\n",
        "\n",
        "}"
      ],
      "metadata": {
        "colab": {
          "base_uri": "https://localhost:8080/"
        },
        "id": "BOJDhz5f8F6d",
        "outputId": "53424840-ce09-488c-c60c-4a9fffcb387b"
      },
      "execution_count": null,
      "outputs": [
        {
          "output_type": "stream",
          "name": "stdout",
          "text": [
            "Overwriting exemplo3.c\n"
          ]
        }
      ]
    },
    {
      "cell_type": "code",
      "source": [
        "!gcc exemplo3.c -o exemplo3\n",
        "!./exemplo3"
      ],
      "metadata": {
        "colab": {
          "base_uri": "https://localhost:8080/"
        },
        "id": "hriOllEy9-2y",
        "outputId": "009ef892-e46e-4776-ccd5-6df7cf303fee"
      },
      "execution_count": null,
      "outputs": [
        {
          "output_type": "stream",
          "name": "stdout",
          "text": [
            "Digite uma string: ola mundo\n",
            "String inversa odnum alo"
          ]
        }
      ]
    },
    {
      "cell_type": "code",
      "source": [
        "# exemplo 4\n",
        "# Faça um programa que conte o número de palavras em\n",
        "# um texto.\n",
        "%%writefile exemplo4.c\n",
        "#include<stdio.h>\n",
        "int main(void) {\n",
        "  char str[80];\n",
        "  int fim = 0, N = 0;\n",
        "  printf(\"Digite uma string: \");\n",
        "  fgets(str, 80, stdin);\n",
        "  while (str[fim] != '\\n' || str[fim] != '\\0') {\n",
        "    while (str[fim] == ' ');\n",
        "      fim++;\n",
        "    if (str[fim] != '\\n' || str[fim] != '\\0') {\n",
        "      N++;\n",
        "      while (str[fim] != ' ' || str[fim] != '\\n' || str[fim] != '\\0')\n",
        "        fim++;\n",
        "    }\n",
        "  }\n",
        "  printf(\"%d palavras\", N);\n",
        "  return 0;\n",
        "}\n"
      ],
      "metadata": {
        "colab": {
          "base_uri": "https://localhost:8080/"
        },
        "id": "7VCW7X6YtR6b",
        "outputId": "0d9891b9-998c-45d8-8084-3d02437ac74f"
      },
      "execution_count": null,
      "outputs": [
        {
          "output_type": "stream",
          "name": "stdout",
          "text": [
            "Overwriting exemplo4.c\n"
          ]
        }
      ]
    },
    {
      "cell_type": "code",
      "source": [
        "!gcc exemplo4.c -o exemplo4\n",
        "!./exemplo4"
      ],
      "metadata": {
        "colab": {
          "base_uri": "https://localhost:8080/"
        },
        "id": "I7mwf9J4utMw",
        "outputId": "a98f43a2-6108-4397-89e0-51d58e8bc62d"
      },
      "execution_count": null,
      "outputs": [
        {
          "output_type": "stream",
          "name": "stdout",
          "text": [
            "Digite uma string: ola mundo mundo mundo mundo mundo mundo mundo mundomundomundomundomundomundomund\n"
          ]
        }
      ]
    },
    {
      "cell_type": "code",
      "source": [
        "# exemplo 5\n",
        "# Faça um programa que some os elementos de um vetor.\n",
        "# Dado um vetor v de tamanho tam, calcular a soma dos\n",
        "# elementos da posição 0 até tam-1.\n",
        "%%writefile exemplo5.c\n",
        "#include<stdio.h>\n",
        "\n",
        "int main(void) {\n",
        "  int tam, soma = 0;\n",
        "  printf(\"Digite o tamanho do vetor: \");\n",
        "  scanf(\"%d\", &tam);\n",
        "  int vetor[tam];\n",
        "  printf(\"Digite os elementos do vetor: \");\n",
        "  for (int i = 0; i < tam; i++) {\n",
        "    scanf(\"%d\", &vetor[i]);\n",
        "  }\n",
        "  for (int i = 0; i < tam;i++) {\n",
        "    soma = soma + vetor[i];\n",
        "  }\n",
        "  printf(\"A soma do elementos do vetor é: %d\", soma);\n",
        "  return 0;\n",
        "\n",
        "}"
      ],
      "metadata": {
        "colab": {
          "base_uri": "https://localhost:8080/"
        },
        "id": "olFJkxMo8K_t",
        "outputId": "3f6085de-d954-43e8-e6be-8c8e64b01107"
      },
      "execution_count": null,
      "outputs": [
        {
          "output_type": "stream",
          "name": "stdout",
          "text": [
            "Overwriting exemplo5.c\n"
          ]
        }
      ]
    },
    {
      "cell_type": "code",
      "source": [
        "!gcc exemplo5.c -o exemplo5\n",
        "!./exemplo5"
      ],
      "metadata": {
        "colab": {
          "base_uri": "https://localhost:8080/"
        },
        "id": "OgFvLZXE9dLC",
        "outputId": "795e5248-5001-4ecc-8600-779ae8024328"
      },
      "execution_count": null,
      "outputs": [
        {
          "output_type": "stream",
          "name": "stdout",
          "text": [
            "Digite o tamanho do vetor: 4\n",
            "Digite os elementos do vetor1\n",
            "2\n",
            "3\n",
            "4\n",
            "A soma do elementos do vetor é: 10"
          ]
        }
      ]
    },
    {
      "cell_type": "code",
      "execution_count": null,
      "metadata": {
        "colab": {
          "base_uri": "https://localhost:8080/"
        },
        "id": "JLdzo--QMnL6",
        "outputId": "91aa5d14-09e5-4a75-c6cd-8394a3e56624"
      },
      "outputs": [
        {
          "output_type": "stream",
          "name": "stdout",
          "text": [
            "Overwriting epp4_1.c\n"
          ]
        }
      ],
      "source": [
        "# Escreva um programa que exiba o conteúdo de um vetor de inteiros digitado pelo usuário.\n",
        "# A entrada dos valores e a exibição devem ser feitas usando duas funções separadas.\n",
        "\n",
        "%%writefile epp4_1.c\n",
        "#include<stdio.h>\n",
        " void read_vec(int vetor[], int N) {\n",
        "  printf(\"Digite os elementos do vetor: \");\n",
        "  for (int i = 0; i < N; i++) {\n",
        "    scanf(\"%d\", &vetor[i]);\n",
        "  }\n",
        "}\n",
        "void show_vec(int vetor[], int N) {\n",
        "  printf(\"O vetor é: \\n\");\n",
        "  for(int i = 0; i < N; i++) {\n",
        "    printf(\"%d \", vetor[i]);\n",
        "  }\n",
        "}\n",
        "int main(void) {\n",
        "  int tamanho;\n",
        "  printf(\"Digite o tamanho do vetor: \");\n",
        "  scanf(\"%d\", &tamanho);\n",
        "  int vetor[tamanho];\n",
        "  read_vec(vetor, tamanho);\n",
        "  show_vec(vetor, tamanho);\n",
        "  return 0;\n",
        "}"
      ]
    },
    {
      "cell_type": "code",
      "source": [
        "!gcc epp4_1.c -o epp4_1\n",
        "!./epp4_1"
      ],
      "metadata": {
        "colab": {
          "base_uri": "https://localhost:8080/"
        },
        "id": "IqfjPyv9U_C1",
        "outputId": "5adb7546-4d15-4fb0-c42b-0d2cb725f56e"
      },
      "execution_count": null,
      "outputs": [
        {
          "output_type": "stream",
          "name": "stdout",
          "text": [
            "Digite o tamanho do vetor: 3\n",
            "Digite os elementos do vetor: 3\n",
            "2\n",
            "1\n",
            "O vetor é: \n",
            "3 2 1 "
          ]
        }
      ]
    },
    {
      "cell_type": "code",
      "source": [
        "# Criar um programa que eleve todos os elementos de um vetor ao quadrado, salvando os valores no próprio vetor.\n",
        "# Use as funções do exercício anterior como base para entrada dos valores e exibição do vetor antes e depois da operação.\n",
        "\n",
        "%%writefile epp4_2.c\n",
        "#include<stdio.h>\n",
        "void read_vec(int vetor[], int N) {\n",
        "  printf(\"Digite os elementos do vetor: \");\n",
        "  for (int i =0; i < N; i++) {\n",
        "    scanf(\"%d\", &vetor[i]);\n",
        "  }\n",
        "}\n",
        "void show_vec(int vetor[], int N) {\n",
        "  printf(\"O vetor é: \");\n",
        "  for (int i = 0; i < N; i++) {\n",
        "    printf(\"%d \", vetor[i]);\n",
        "  }\n",
        "}\n",
        "void square_vec(int vetor[], int N) {\n",
        "  printf(\"\\nO vetor é: \");\n",
        "  for(int i =0; i < N; i++) {\n",
        "    vetor[i] = vetor[i] * vetor[i];\n",
        "    printf(\"%d \", vetor[i]);\n",
        "  }\n",
        "}\n",
        "\n",
        "int main(void) {\n",
        "  int tamanho;\n",
        "  printf(\"Digite o tamanho do vetor: \");\n",
        "  scanf(\"%d\", &tamanho);\n",
        "  int vetor[tamanho];\n",
        "  read_vec(vetor, tamanho);\n",
        "  show_vec(vetor, tamanho);\n",
        "  square_vec(vetor, tamanho);\n",
        "\n",
        "  return 0;\n",
        "}"
      ],
      "metadata": {
        "colab": {
          "base_uri": "https://localhost:8080/"
        },
        "id": "fogg93Wxueti",
        "outputId": "419a5e1d-ec2d-44ec-86d9-aeb8c31185ac"
      },
      "execution_count": null,
      "outputs": [
        {
          "output_type": "stream",
          "name": "stdout",
          "text": [
            "Overwriting epp4_2.c\n"
          ]
        }
      ]
    },
    {
      "cell_type": "code",
      "source": [
        "!gcc epp4_2.c -o epp4_2\n",
        "!./epp4_2"
      ],
      "metadata": {
        "colab": {
          "base_uri": "https://localhost:8080/"
        },
        "id": "Cx0exrllwWic",
        "outputId": "b8332a4b-f987-4cc5-fee6-597d92fe738d"
      },
      "execution_count": null,
      "outputs": [
        {
          "output_type": "stream",
          "name": "stdout",
          "text": [
            "Digite o tamanho do vetor: 2\n",
            "Digite os elementos do vetor: 23\n",
            "27\n",
            "O vetor é: 23 27 \n",
            "O vetor é: 529 729 "
          ]
        }
      ]
    },
    {
      "cell_type": "code",
      "source": [
        "# Crie um programa que peça ao usuário as dimensões de uma matriz e depois leia cada um de seus elementos.\n",
        "# O programa deve então exibir a matriz usando uma função chamada exibeMatriz().\n",
        "# Esta função deve ter como parâmetro as dimensões da matriz, bem como a própria matriz.\n",
        "\n",
        "%%writefile epp4_3.c\n",
        "#include<stdio.h>\n",
        "void exibeMatriz(int a, int b, int m[a][b]) {\n",
        "  printf(\"A matriz digitada é: \\n\");\n",
        "  for (int l = 0; l < a; l++) {\n",
        "    for (int c = 0; c < b; c++) {\n",
        "      printf(\"%d \", m[l][c]);\n",
        "    }\n",
        "    printf(\"\\n\");\n",
        "  }\n",
        "}\n",
        "int main(void) {\n",
        "  int linha, coluna;\n",
        "  printf(\"Digite o tamanho da matriz: \");\n",
        "  scanf(\"%d\", &linha);\n",
        "  scanf(\"%d\", &coluna);\n",
        "  int matriz[linha][coluna];\n",
        "  for (int i = 0; i < linha; i++) {\n",
        "    for (int j = 0; j < coluna; j++) {\n",
        "      printf(\"Digite o elemento (%d,%d): \", i, j);\n",
        "      scanf(\"%d\", &matriz[i][j]);\n",
        "    }\n",
        "  }\n",
        "  exibeMatriz(linha, coluna, matriz);\n",
        "  return 0;\n",
        "}"
      ],
      "metadata": {
        "colab": {
          "base_uri": "https://localhost:8080/"
        },
        "id": "C1cprPin1iRb",
        "outputId": "3f407e0d-68ed-4dde-e136-115b044f9c90"
      },
      "execution_count": null,
      "outputs": [
        {
          "output_type": "stream",
          "name": "stdout",
          "text": [
            "Overwriting epp4_3.c\n"
          ]
        }
      ]
    },
    {
      "cell_type": "code",
      "source": [
        "!gcc epp4_3.c -o epp4_3\n",
        "!./epp4_3"
      ],
      "metadata": {
        "colab": {
          "base_uri": "https://localhost:8080/"
        },
        "id": "bKLeSz-P45TZ",
        "outputId": "855f0594-1f8e-4105-9415-4eaa20e9f77c"
      },
      "execution_count": null,
      "outputs": [
        {
          "output_type": "stream",
          "name": "stdout",
          "text": [
            "Digite o tamanho da matriz: 3\n",
            "2\n",
            "Digite o elemento (0,0): 1\n",
            "Digite o elemento (0,1): 2\n",
            "Digite o elemento (1,0): 3\n",
            "Digite o elemento (1,1): 4\n",
            "Digite o elemento (2,0): 5\n",
            "Digite o elemento (2,1): 6\n",
            "A matriz digitada é: \n",
            "1 2 \n",
            "3 4 \n",
            "5 6 \n"
          ]
        }
      ]
    },
    {
      "cell_type": "code",
      "source": [
        "# Crie um programa que gere automaticamente uma matriz 10x5 com inteiros entre 0 e 9.\n",
        "# O programa deve então criar uma segunda matriz 5x10 que será a transposta da primeira.\n",
        "# Ambas as matrizes devem ser exibidas usando a função desenvolvida no exercício anterior.\n",
        "\n",
        "%%writefile epp4_4.c\n",
        "#include<stdio.h>\n",
        "#include<stdlib.h>\n",
        "#define M 10\n",
        "#define N 5\n",
        "void exibeMatriz(int a, int b, int m[a][b]) {\n",
        "  for (int l = 0; l < a; l++) {\n",
        "    for (int c = 0; c < b; c++) {\n",
        "      printf(\"%d \", m[l][c]);\n",
        "    }\n",
        "    printf(\"\\n\");\n",
        "  }\n",
        "}\n",
        "int main(void) {\n",
        "  int m[M][N];\n",
        "  int transposta[N][M];\n",
        "  int seed;\n",
        "  printf(\"Digite a seed: \");\n",
        "  scanf(\"%d\", &seed);\n",
        "  srand(seed);\n",
        "  for (int i = 0; i < M; i++) {\n",
        "    for (int j = 0; j < N; j++) {\n",
        "      m[i][j] = rand()%10;\n",
        "    }\n",
        "  }\n",
        "  for (int i = 0; i < M; i++) {\n",
        "    for (int j = 0; j < N; j++) {\n",
        "      transposta[j][i] = m[i][j];\n",
        "    }\n",
        "  }\n",
        "  printf(\"A matriz é: \\n\");\n",
        "  exibeMatriz(M, N, m);\n",
        "  printf(\"A transposta é: \\n\");\n",
        "  exibeMatriz(N, M, transposta);\n",
        "  return 0;\n",
        "}"
      ],
      "metadata": {
        "colab": {
          "base_uri": "https://localhost:8080/"
        },
        "id": "OmSQK2QJ5uSt",
        "outputId": "7e126035-7673-4a2c-c9aa-2bc123db4e0e"
      },
      "execution_count": null,
      "outputs": [
        {
          "output_type": "stream",
          "name": "stdout",
          "text": [
            "Overwriting epp4_4.c\n"
          ]
        }
      ]
    },
    {
      "cell_type": "code",
      "source": [
        "!gcc epp4_4.c -o epp4_4\n",
        "!./epp4_4"
      ],
      "metadata": {
        "colab": {
          "base_uri": "https://localhost:8080/"
        },
        "id": "QIbCPGEX9Waf",
        "outputId": "98b1c8d6-e402-458b-9009-96f437ca7277"
      },
      "execution_count": null,
      "outputs": [
        {
          "output_type": "stream",
          "name": "stdout",
          "text": [
            "Digite a seed: 0\n",
            "A matriz é: \n",
            "3 6 7 5 3 \n",
            "5 6 2 9 1 \n",
            "2 7 0 9 3 \n",
            "6 0 6 2 6 \n",
            "1 8 7 9 2 \n",
            "0 2 3 7 5 \n",
            "9 2 2 8 9 \n",
            "7 3 6 1 2 \n",
            "9 3 1 9 4 \n",
            "7 8 4 5 0 \n",
            "A transposta é: \n",
            "3 5 2 6 1 0 9 7 9 7 \n",
            "6 6 7 0 8 2 2 3 3 8 \n",
            "7 2 0 6 7 3 2 6 1 4 \n",
            "5 9 9 2 9 7 8 1 9 5 \n",
            "3 1 3 6 2 5 9 2 4 0 \n"
          ]
        }
      ]
    },
    {
      "cell_type": "code",
      "source": [
        "# O objetivo desta tarefa é fazer um programa que, dado o mapa de ruas de um condomínio e um inteiro K,\n",
        "# determina se é possível vigiar todas as ruas do condomínio usando exatamente K câmeras e, em caso afirmativo, indicar em quais esquinas elas devem ser instaladas.\n",
        "\n",
        "%%writefile epp4_5.c\n",
        "#include<stdio.h>\n",
        "#include <stdio.h>\n",
        "#include <stdbool.h>\n",
        "\n",
        "#define MAX_N 30\n",
        "#define MAX_M 50\n",
        "\n",
        "int N, M, K;\n",
        "int A[MAX_N][MAX_M];  // A[i][j] = 1 se a esquina i está na rua j\n",
        "int vigiada[MAX_M];    // vigiada[j] = 1 se a rua j é vigiada\n",
        "\n",
        "\n",
        "bool distribuiCameras(int esquinaAtual, int camerasEscolhidas, int cameras[], int limite) {\n",
        "\n",
        "    if (camerasEscolhidas == K) {\n",
        "\n",
        "        for (int j = 0; j < M; j++) {\n",
        "            if (vigiada[j] == 0) {\n",
        "                return false; //\n",
        "            }\n",
        "        }\n",
        "\n",
        "        for (int i = 0; i < K; i++) {\n",
        "            if (i > 0) printf(\" \");\n",
        "            printf(\"%d\", cameras[i]);\n",
        "        }\n",
        "        printf(\"\\n\");\n",
        "        return true;\n",
        "    }\n",
        "\n",
        "\n",
        "    bool foundSolution = false;\n",
        "    for (int i = esquinaAtual; i < N; i++) {\n",
        "\n",
        "        cameras[camerasEscolhidas] = i;\n",
        "\n",
        "\n",
        "        for (int j = 0; j < M; j++) {\n",
        "            if (A[i][j] == 1) {\n",
        "                vigiada[j]++;\n",
        "            }\n",
        "        }\n",
        "\n",
        "\n",
        "        foundSolution = distribuiCameras(i + 1, camerasEscolhidas + 1, cameras, limite);\n",
        "\n",
        "\n",
        "        for (int j = 0; j < M; j++) {\n",
        "            if (A[i][j] == 1) {\n",
        "                vigiada[j]--;\n",
        "            }\n",
        "        }\n",
        "\n",
        "        if (foundSolution) {\n",
        "            break;\n",
        "        }\n",
        "    }\n",
        "\n",
        "    return foundSolution;\n",
        "}\n",
        "\n",
        "int main() {\n",
        "\n",
        "    scanf(\"%d %d %d\", &N, &M, &K);\n",
        "    for (int i = 0; i < N; i++) {\n",
        "        for (int j = 0; j < M; j++) {\n",
        "            scanf(\"%d\", &A[i][j]);\n",
        "        }\n",
        "    }\n",
        "\n",
        "\n",
        "    for (int j = 0; j < M; j++) {\n",
        "        vigiada[j] = 0;\n",
        "    }\n",
        "\n",
        "\n",
        "    int cameras[K];\n",
        "\n",
        "    if (!distribuiCameras(0, 0, cameras, K)) {\n",
        "        printf(\"-1\\n\");\n",
        "    }\n",
        "\n",
        "    return 0;\n",
        "}"
      ],
      "metadata": {
        "colab": {
          "base_uri": "https://localhost:8080/"
        },
        "id": "6w4pM-YJ-XSE",
        "outputId": "355befb5-24ac-4dbf-ce6f-bc397959dfa5"
      },
      "execution_count": null,
      "outputs": [
        {
          "output_type": "stream",
          "name": "stdout",
          "text": [
            "Writing epp4_5.c\n"
          ]
        }
      ]
    },
    {
      "cell_type": "code",
      "source": [
        "!gcc epp4_5.c -o epp4_5\n",
        "!./epp4_5"
      ],
      "metadata": {
        "colab": {
          "base_uri": "https://localhost:8080/"
        },
        "id": "Dpn6twu5-2BF",
        "outputId": "f79e42c8-4c1d-4263-9c55-c68cb88be2b6"
      },
      "execution_count": null,
      "outputs": [
        {
          "output_type": "stream",
          "name": "stdout",
          "text": [
            "3 3 2\n",
            "0 1 1\n",
            "1 0 1\n",
            "1 1 0\n",
            "0 1\n"
          ]
        }
      ]
    },
    {
      "cell_type": "code",
      "source": [
        "# exercício 1\n",
        "# Escreva um programa que lê 10 números inteiros e os salva em um\n",
        "# vetor. Em seguida o programa deve encontrar a posição do maior\n",
        "# elemento do vetor e imprimir esta posição.\n",
        "\n",
        "%%writefile ex1.c\n",
        "#include <stdio.h>\n",
        "\n",
        "int main() {\n",
        "    int v[10], maior, pos;\n",
        "    printf(\"Digite 10 números: \");\n",
        "    for (int i = 0; i < 10; i++) {\n",
        "        scanf(\"%d\", &v[i]);\n",
        "    }\n",
        "    maior = v[0];\n",
        "    pos = 0;\n",
        "    for (int i = 0; i < 10; i++) {\n",
        "        if (v[i] > maior) {\n",
        "            maior = v[i];\n",
        "            pos = i;\n",
        "        }\n",
        "    }\n",
        "    printf(\"O maior está na posição %d e vale %d\", pos, maior);\n",
        "\n",
        "    return 0;\n",
        "}"
      ],
      "metadata": {
        "colab": {
          "base_uri": "https://localhost:8080/"
        },
        "id": "TP9XCesozBGh",
        "outputId": "4d20d4b7-1d9a-40f6-ddcc-503973c58284"
      },
      "execution_count": null,
      "outputs": [
        {
          "output_type": "stream",
          "name": "stdout",
          "text": [
            "Overwriting ex1.c\n"
          ]
        }
      ]
    },
    {
      "cell_type": "code",
      "source": [
        "!gcc ex1.c -o ex1\n",
        "!./ex1"
      ],
      "metadata": {
        "colab": {
          "base_uri": "https://localhost:8080/"
        },
        "id": "UZRjk4oHzJd9",
        "outputId": "f7aa588f-e7e7-4f23-d75a-79dda0957ee6"
      },
      "execution_count": null,
      "outputs": [
        {
          "output_type": "stream",
          "name": "stdout",
          "text": [
            "Digite 10 números: 1\n",
            "2\n",
            "3\n",
            "4\n",
            "5\n",
            "6\n",
            "7\n",
            "8\n",
            "9\n",
            "10\n",
            "O maior está na posição 9 e vale 10"
          ]
        }
      ]
    },
    {
      "cell_type": "code",
      "source": [
        "# exercício 2\n",
        "# Escreva um programa que lê uma matriz do teclado e então imprime\n",
        "# os elementos com menor e maior frequência de ocorrência na matriz.\n",
        "%%writefile ex2.c\n",
        "#include<stdio.h>\n",
        "int main(void) {\n",
        "  int linhas, colunas;\n",
        "  printf(\"Digite o tamanho da matriz: \");\n",
        "  scanf(\"%d %d\", &linhas, &colunas);\n",
        "  int matriz[linhas][colunas];\n",
        "  printf(\"Digite os elementos da matriz: \");\n",
        "  for (int i = 0; i < linhas; i++) {\n",
        "    for (int j = 0; j < colunas; j++) {\n",
        "      scanf(\"%d \", &matriz[i][j]);\n",
        "    }\n",
        "  }\n",
        "  int menor_freq = linhas * colunas;\n",
        "  int maior_freq = 1;\n",
        "  int min_ele, max_ele;\n",
        "  for (int i = 0; i < linhas; i++) {\n",
        "    for (int j = 0; j < colunas; j++) {\n",
        "      int atual = matriz[i][j];\n",
        "      int cont = 0;\n",
        "\n",
        "      for (int x = 0; x < linhas; x++) {\n",
        "        for (int y = 0; y < colunas; y++) {\n",
        "          if (matriz[x][y] == atual) {\n",
        "            cont++;\n",
        "          };\n",
        "\n",
        "        }\n",
        "      }\n",
        "      if (cont < menor_freq) {\n",
        "        menor_freq = cont;\n",
        "        min_ele = atual;\n",
        "      }\n",
        "      if (cont > maior_freq) {\n",
        "        maior_freq = cont;\n",
        "        max_ele = atual;\n",
        "      }\n",
        "    }\n",
        "  }\n",
        "  printf(\"O elemento de maior ocorrencia foi %d\\n\", max_ele);\n",
        "  printf(\"O elemento de menor ocorrencia foi %d\", min_ele);\n",
        "  return 0;\n",
        "}"
      ],
      "metadata": {
        "colab": {
          "base_uri": "https://localhost:8080/"
        },
        "id": "IBgU4_8h_eg_",
        "outputId": "fe8ad7d5-1e76-4df1-de51-ff0a3b251b6e"
      },
      "execution_count": null,
      "outputs": [
        {
          "output_type": "stream",
          "name": "stdout",
          "text": [
            "Overwriting ex2.c\n"
          ]
        }
      ]
    },
    {
      "cell_type": "code",
      "source": [
        "!gcc ex2.c -o ex2\n",
        "!./ex2"
      ],
      "metadata": {
        "colab": {
          "base_uri": "https://localhost:8080/"
        },
        "id": "wfGCVJx2BleC",
        "outputId": "c184c356-70ac-4c72-a0f9-9e590413876a"
      },
      "execution_count": null,
      "outputs": [
        {
          "output_type": "stream",
          "name": "stdout",
          "text": [
            "Digite o tamanho da matriz: 3\n",
            "2\n",
            "Digite os elementos da matriz: 1\n",
            "1\n",
            "2\n",
            "2\n",
            "2\n",
            "2\n",
            "0\n",
            "O elemento de maior ocorrencia foi 2\n",
            "O elemento de menor ocorrencia foi 1"
          ]
        }
      ]
    },
    {
      "cell_type": "code",
      "source": [
        "# exercício 3\n",
        "# Escreva um programa que lê 10 números ponto flutuante e os salva em\n",
        "# um vetor. Em seguida o programa deve calcular a média dos valores\n",
        "# armazenados no vetor e imprimir este valor.\n",
        "\n",
        "%%writefile ex3.c\n",
        "#include<stdio.h>\n",
        "int main(void) {\n",
        "  float v[10], soma = 0;\n",
        "  printf(\"Digite 10 números: \");\n",
        "  for (int i = 0; i < 10; i++) {\n",
        "    scanf(\"%f\", &v[i]);\n",
        "    soma = soma + v[i];\n",
        "  }\n",
        "  printf(\"A média dos valores é: %.2f\", (soma / 10));\n",
        "  return 0;\n",
        "\n",
        "}"
      ],
      "metadata": {
        "colab": {
          "base_uri": "https://localhost:8080/"
        },
        "id": "fz-ZvNj30brr",
        "outputId": "c27c9889-d67c-4f3b-a348-5dd77a271e5b"
      },
      "execution_count": null,
      "outputs": [
        {
          "output_type": "stream",
          "name": "stdout",
          "text": [
            "Overwriting ex3.c\n"
          ]
        }
      ]
    },
    {
      "cell_type": "code",
      "source": [
        "!gcc ex3.c -o ex3\n",
        "!./ex3"
      ],
      "metadata": {
        "colab": {
          "base_uri": "https://localhost:8080/"
        },
        "id": "9WLkz4wO2CPb",
        "outputId": "04576387-f83a-406a-be9f-29a7484a1d2f"
      },
      "execution_count": null,
      "outputs": [
        {
          "output_type": "stream",
          "name": "stdout",
          "text": [
            "Digite 10 números: 1\n",
            "2\n",
            "3\n",
            "4\n",
            "5\n",
            "6\n",
            "7\n",
            "8\n",
            "9\n",
            "10\n",
            "A média dos valores é: 5.50"
          ]
        }
      ]
    }
  ]
}