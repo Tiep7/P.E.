{
  "nbformat": 4,
  "nbformat_minor": 0,
  "metadata": {
    "colab": {
      "provenance": [],
      "authorship_tag": "ABX9TyMRsVXvT6Om/IrDE9F4z+F+",
      "include_colab_link": true
    },
    "kernelspec": {
      "name": "python3",
      "display_name": "Python 3"
    },
    "language_info": {
      "name": "python"
    }
  },
  "cells": [
    {
      "cell_type": "markdown",
      "metadata": {
        "id": "view-in-github",
        "colab_type": "text"
      },
      "source": [
        "<a href=\"https://colab.research.google.com/github/Tiep7/Programacao_estrutura-linguagem_c/blob/main/Aula_Pr%C3%A1tica_6.ipynb\" target=\"_parent\"><img src=\"https://colab.research.google.com/assets/colab-badge.svg\" alt=\"Open In Colab\"/></a>"
      ]
    },
    {
      "cell_type": "code",
      "execution_count": null,
      "metadata": {
        "id": "piaTuayY5dnF",
        "colab": {
          "base_uri": "https://localhost:8080/"
        },
        "outputId": "3d3c10d2-a9f5-45e2-bc32-12b1f14d776e"
      },
      "outputs": [
        {
          "output_type": "stream",
          "name": "stdout",
          "text": [
            "Overwriting g1.c\n"
          ]
        }
      ],
      "source": [
        "#/*implemente um programa que leia o nome, a idade e o endereço de uma pessoa.\n",
        "#armazene esses dados em uma estrutura.\n",
        "#Em seguida, imprima na tela os dados da estrutura lida.*/\n",
        "%%writefile g1.c\n",
        "#include <stdio.h>\n",
        "#include<stdlib.h>\n",
        "#include<string.h>\n",
        "\n",
        "/*implemente um programa que leia o nome, a idade e o endereço de uma pessoa.\n",
        "armazene esses dados em uma estrutura.\n",
        "Em seguida, imprima na tela os dados da estrutura lida.*/\n",
        "\n",
        "struct cadastro {\n",
        "    char nome[80];\n",
        "    int idade;\n",
        "    char rua[80];\n",
        "    int numero;\n",
        "};\n",
        "int main() {\n",
        "    struct cadastro c;\n",
        "    printf(\"---Cadastro---\\n\");\n",
        "    printf(\"Digite o seu nome: \\n\");\n",
        "    fgets(c.nome, 80, stdin);\n",
        "    printf(\"Digite a sua idade: \\n\");\n",
        "    scanf(\"%d\", &c.idade);\n",
        "    getchar();\n",
        "    printf(\"---Digite o seu endereço---\\n\");\n",
        "    printf(\"Rua: \\n\");\n",
        "    fgets(c.rua, 80, stdin);\n",
        "    printf(\"número: \\n\");\n",
        "    scanf(\"%d\", &c.numero);\n",
        "\n",
        "    printf(\"---Cadastrado---\\n\");\n",
        "    printf(\"%s\", c.nome);\n",
        "    printf(\"%d anos\\n\", c.idade);\n",
        "    printf(\"Rua %s\", c.rua);\n",
        "    printf(\"%d\", c.numero);\n",
        "\n",
        "    return 0;\n",
        "}"
      ]
    },
    {
      "cell_type": "code",
      "source": [
        "!gcc g1.c -o g1\n",
        "!./g1"
      ],
      "metadata": {
        "colab": {
          "base_uri": "https://localhost:8080/"
        },
        "id": "W3SzVPfcjdwa",
        "outputId": "73aa09ed-1d16-4867-d717-779e04edcc25"
      },
      "execution_count": null,
      "outputs": [
        {
          "output_type": "stream",
          "name": "stdout",
          "text": [
            "---Cadastro---\n",
            "Digite o seu nome: \n",
            "P\n",
            "Digite a sua idade: \n",
            "21\n",
            "---Digite o seu endereço---\n",
            "Rua: \n",
            "s\n",
            "número: \n",
            "1\n",
            "---Cadastrado---\n",
            "P\n",
            "21 anos\n",
            "Rua s\n",
            "1"
          ]
        }
      ]
    },
    {
      "cell_type": "code",
      "source": [
        "%%writefile g2.c\n",
        "#include<stdio.h>\n",
        "#include<math.h>\n",
        "\n",
        "/*Crie uma estrutura para representar as coordenadas de um ponto no plano (posições X e Y).\n",
        "Em seguida, declare e leia do teclado um ponto e exiba a distância dele até a origem das coordenadas,\n",
        "isto é, a posição (0,0).*/\n",
        "\n",
        "struct coordenadas {\n",
        "    int x;\n",
        "    int y;\n",
        "}p;\n",
        "\n",
        "int main() {\n",
        "    int dist;\n",
        "    printf(\"Digite um ponto (x,y): \");\n",
        "    scanf(\"%d %d\", &p.x, &p.y);\n",
        "    dist = sqrt(pow((p.x), 2) + pow((p.y), 2));\n",
        "    printf(\"A distância é de %d\", dist);\n",
        "\n",
        "    return 0;\n",
        "}"
      ],
      "metadata": {
        "id": "ZUjl0M_gEFtv",
        "colab": {
          "base_uri": "https://localhost:8080/"
        },
        "outputId": "c36d843e-2c36-417e-f8bc-5e0bd85b14c9"
      },
      "execution_count": null,
      "outputs": [
        {
          "output_type": "stream",
          "name": "stdout",
          "text": [
            "Overwriting g2.c\n"
          ]
        }
      ]
    },
    {
      "cell_type": "code",
      "source": [
        "!gcc g2.c -o g2\n",
        "!./g2"
      ],
      "metadata": {
        "colab": {
          "base_uri": "https://localhost:8080/"
        },
        "id": "F4ZotxWlkBpW",
        "outputId": "70768660-e32c-422a-ca31-d3f933bf5887"
      },
      "execution_count": null,
      "outputs": [
        {
          "output_type": "stream",
          "name": "stdout",
          "text": [
            "/usr/bin/ld: /tmp/ccqrP8Fh.o: in function `main':\n",
            "g2.c:(.text+0x6d): undefined reference to `pow'\n",
            "/usr/bin/ld: g2.c:(.text+0x9b): undefined reference to `pow'\n",
            "/usr/bin/ld: g2.c:(.text+0xb3): undefined reference to `sqrt'\n",
            "collect2: error: ld returned 1 exit status\n",
            "/bin/bash: line 1: ./g2: No such file or directory\n"
          ]
        }
      ]
    },
    {
      "cell_type": "code",
      "source": [
        "# Crie uma enumeração representando os dias da semana. Agora, escreva um programa que leia um valor inteiro do teclado e exiba o dia da semana correspondente\n",
        "%%writefile g3.c\n",
        "#include<stdio.h>\n",
        "#include<stdlib.h>\n",
        "enum semana {\n",
        "  segunda=1, terça, quarta, quinta, sexta, sábado, domingo\n",
        "};\n",
        "int main(void) {\n",
        "  enum semana d;\n",
        "  printf(\"Digite um valor de 0 a 6: \");\n",
        "  scanf(\"%d\", &d);\n",
        "  printf(\"%d\", d);\n",
        "  return 0;\n",
        "\n",
        "}"
      ],
      "metadata": {
        "colab": {
          "base_uri": "https://localhost:8080/"
        },
        "id": "AoZcTa5Iusyc",
        "outputId": "33939435-1bbe-47e4-b121-3620843400ce"
      },
      "execution_count": null,
      "outputs": [
        {
          "output_type": "stream",
          "name": "stdout",
          "text": [
            "Overwriting g3.c\n"
          ]
        }
      ]
    },
    {
      "cell_type": "code",
      "source": [
        "!gcc g3.c -o g3\n",
        "!./g3"
      ],
      "metadata": {
        "colab": {
          "base_uri": "https://localhost:8080/"
        },
        "id": "P2f7QySCx6l1",
        "outputId": "d7eff6d7-6e19-4d15-8bf8-0142048f5e74"
      },
      "execution_count": null,
      "outputs": [
        {
          "output_type": "stream",
          "name": "stdout",
          "text": [
            "\u001b[01m\u001b[Kg3.c:\u001b[m\u001b[K In function ‘\u001b[01m\u001b[Kmain\u001b[m\u001b[K’:\n",
            "\u001b[01m\u001b[Kg3.c:9:11:\u001b[m\u001b[K \u001b[01;35m\u001b[Kwarning: \u001b[m\u001b[Kformat ‘\u001b[01m\u001b[K%d\u001b[m\u001b[K’ expects argument of type ‘\u001b[01m\u001b[Kint *\u001b[m\u001b[K’, but argument 2 has type ‘\u001b[01m\u001b[Kenum semana *\u001b[m\u001b[K’ [\u001b[01;35m\u001b[K\u001b]8;;https://gcc.gnu.org/onlinedocs/gcc/Warning-Options.html#index-Wformat=\u0007-Wformat=\u001b]8;;\u0007\u001b[m\u001b[K]\n",
            "    9 |   scanf(\"\u001b[01;35m\u001b[K%d\u001b[m\u001b[K\", \u001b[32m\u001b[K&d\u001b[m\u001b[K);\n",
            "      |          \u001b[01;35m\u001b[K~^\u001b[m\u001b[K   \u001b[32m\u001b[K~~\u001b[m\u001b[K\n",
            "      |           \u001b[01;35m\u001b[K|\u001b[m\u001b[K   \u001b[32m\u001b[K|\u001b[m\u001b[K\n",
            "      |           \u001b[01;35m\u001b[K|\u001b[m\u001b[K   \u001b[32m\u001b[Kenum semana *\u001b[m\u001b[K\n",
            "      |           \u001b[01;35m\u001b[Kint *\u001b[m\u001b[K\n",
            "Digite um valor de 0 a 6: 7\n",
            "7"
          ]
        }
      ]
    },
    {
      "cell_type": "code",
      "source": [
        "# Crie um novo tipo de registro para armazenar coordenadas\n",
        "# no plano cartesiano.\n",
        "%%writefile exemplo1.c\n",
        "#include<stdio.h>\n",
        "struct coordenada {\n",
        "  int x;\n",
        "  int y;\n",
        "};\n",
        "int main(void) {\n",
        "  struct coordenada c;\n",
        "  printf(\"Digite x e y de um ponto: \");\n",
        "  scanf(\"%d %d\", &c.x, &c.y);\n",
        "  printf(\"P:(%d,%d)\", c.x, c.y);\n",
        "  return 0;\n",
        "\n",
        "}"
      ],
      "metadata": {
        "colab": {
          "base_uri": "https://localhost:8080/"
        },
        "id": "17MS1UpReRt7",
        "outputId": "f94bcd22-6517-4bf1-94c3-a7d29d5da94c"
      },
      "execution_count": null,
      "outputs": [
        {
          "output_type": "stream",
          "name": "stdout",
          "text": [
            "Overwriting exemplo1.c\n"
          ]
        }
      ]
    },
    {
      "cell_type": "code",
      "source": [
        "!gcc exemplo1.c -o exemplo1\n",
        "!./exemplo1"
      ],
      "metadata": {
        "colab": {
          "base_uri": "https://localhost:8080/"
        },
        "id": "wD6LWsL7fNf8",
        "outputId": "a17a201d-9b8a-4347-d62b-18b37b7794f6"
      },
      "execution_count": null,
      "outputs": [
        {
          "output_type": "stream",
          "name": "stdout",
          "text": [
            "Digite x e y de um ponto: 7\n",
            "7\n",
            "P:(7,7)"
          ]
        }
      ]
    },
    {
      "cell_type": "code",
      "source": [
        "# Crie uma função para imprimir um ponto do tipo criado.\n",
        "%%writefile exemplo2.c\n",
        "#include<stdio.h>\n",
        "struct coordenada {\n",
        "  int x;\n",
        "  int y;\n",
        "};\n",
        "void ImprimePontos(struct coordenada c1, struct coordenada c2) {\n",
        "    printf(\"P:(%d,%d)\\n\", c1.x, c1.y);\n",
        "    printf(\"P:(%d,%d)\\n\", c2.x, c2.y);\n",
        "}\n",
        "void SomaPontos(struct coordenada c1, struct coordenada c2) {\n",
        "    int somax, somay;\n",
        "    somax = c1.x + c2.x;\n",
        "    somay = c1.y + c2.y;\n",
        "    printf(\"Soma em x: %d, soma em y: %d\\n\", somax, somay);\n",
        "}\n",
        "void SubtraiPontos(struct coordenada c1, struct coordenada c2) {\n",
        "    int subx, suby;\n",
        "    subx = c1.x - c2.x;\n",
        "    suby = c1.y - c2.y;\n",
        "    printf(\"Subtração em x: %d, subtração em y: %d\\n\", subx, suby);\n",
        "}\n",
        "void Multiplicacao_por_escalar(struct coordenada c1, struct coordenada c2) {\n",
        "    printf(\"P:(%d,%d)\\n\", (c1.x*7), (c1.y*7));\n",
        "    printf(\"P:(%d,%d)\\n\", (c2.x*7), (c2.y*7));\n",
        "}\n",
        "int main(void) {\n",
        "  struct coordenada c1, c2;\n",
        "  printf(\"Digite x e y de um ponto 1: \");\n",
        "  scanf(\"%d %d\", &c1.x, &c1.y);\n",
        "  printf(\"Digite x e y de um ponto 2: \");\n",
        "  scanf(\"%d %d\", &c2.x, &c2.y);\n",
        "  ImprimePontos(c1, c2);\n",
        "  SomaPontos(c1, c2);\n",
        "  SubtraiPontos(c1, c2);\n",
        "  Multiplicacao_por_escalar(c1, c2);\n",
        "  return 0;\n",
        "\n",
        "}"
      ],
      "metadata": {
        "colab": {
          "base_uri": "https://localhost:8080/"
        },
        "id": "qw8qpIizfyYr",
        "outputId": "2f41b23b-46c6-44b4-cd3e-e91ce6377d4e"
      },
      "execution_count": null,
      "outputs": [
        {
          "output_type": "stream",
          "name": "stdout",
          "text": [
            "Overwriting exemplo2.c\n"
          ]
        }
      ]
    },
    {
      "cell_type": "code",
      "source": [
        "!gcc exemplo2.c -o exemplo2\n",
        "!./exemplo2"
      ],
      "metadata": {
        "colab": {
          "base_uri": "https://localhost:8080/"
        },
        "id": "RLE-5mOqgJv_",
        "outputId": "8a70e2a2-a277-4f9f-acf1-7e5ec04f7e7c"
      },
      "execution_count": null,
      "outputs": [
        {
          "output_type": "stream",
          "name": "stdout",
          "text": [
            "Digite x e y de um ponto 1: 7\n",
            "7\n",
            "Digite x e y de um ponto 2: 1\n",
            "1\n",
            "P:(7,7)\n",
            "P:(1,1)\n",
            "Soma em x: 8, soma em y: 8\n",
            "Subtração em x: 6, subtração em y: 6\n",
            "P:(49,49)\n",
            "P:(7,7)\n"
          ]
        }
      ]
    },
    {
      "cell_type": "code",
      "source": [
        "#Em um programa em C, defina uma estrutura \"user\" que contenha os valores \"nome\", \"idade\", \"altura\" e \"peso\".\n",
        "# Dentro do programa principal, instancie uma estrutura \"pessoa01\" do tipo \"user\", já fornecendo os dados de cada variável na instanciação.\n",
        "# Instancie uma segunda estrutura \"pessoa02\" do tipo \"user\" e peça que o usuário forneça os dados.  Crie uma função que receba a estrutura como parâmetro e exiba os valores armazenados.\n",
        "# Use esta função com \"pessoa01\" e \"pessoa02\".\n",
        "# Utilize uma estrutura: struct user{ ... };\n",
        "# Utilize uma função: void showStruct(struct user pessoa);\n",
        "%%writefile ex1.c\n",
        "#include<stdio.h>\n",
        "#include<string.h>\n",
        "struct user {\n",
        "  char nome[80];\n",
        "  int idade;\n",
        "  float peso;\n",
        "  float altura;\n",
        "};\n",
        "void showStruct(struct user pessoa) {\n",
        "  printf(\"\\nO nome é: %s\", pessoa.nome);\n",
        "  printf(\"A idade é: %d\\n\", pessoa.idade);\n",
        "  printf(\"A altura é: %.2f\\n\", pessoa.altura);\n",
        "  printf(\"O peso é: %.2f\\n\", pessoa.peso);\n",
        "}\n",
        "int main(void) {\n",
        "  struct user pessoa1, pessoa2;\n",
        "  printf(\"Digite o nome: \");\n",
        "  fgets(pessoa1.nome, 80, stdin);\n",
        "  printf(\"Digite a idade: \");\n",
        "  scanf(\"%d\", &pessoa1.idade);\n",
        "  getchar();\n",
        "  printf(\"Digite a altura: \");\n",
        "  scanf(\"%f\", &pessoa1.altura);\n",
        "  getchar();\n",
        "  printf(\"Digite o peso: \");\n",
        "  scanf(\"%f\", &pessoa1.peso);\n",
        "  getchar();\n",
        "  strcpy(pessoa2.nome, \"João Silva\\n\");\n",
        "  pessoa2.idade = 30;\n",
        "  pessoa2.altura = 1.65;\n",
        "  pessoa2.peso = 75.50;\n",
        "  showStruct(pessoa2);\n",
        "  showStruct(pessoa1);\n",
        "  return 0;\n",
        "}"
      ],
      "metadata": {
        "id": "9mtn0lYfvA2r",
        "colab": {
          "base_uri": "https://localhost:8080/"
        },
        "outputId": "50997654-7b6e-49e3-d33e-1111b7b3a7f9"
      },
      "execution_count": null,
      "outputs": [
        {
          "output_type": "stream",
          "name": "stdout",
          "text": [
            "Overwriting ex1.c\n"
          ]
        }
      ]
    },
    {
      "cell_type": "code",
      "source": [
        "!gcc ex1.c -o ex1\n",
        "!./ex1"
      ],
      "metadata": {
        "colab": {
          "base_uri": "https://localhost:8080/"
        },
        "id": "Sd_SPROHohwO",
        "outputId": "d577456c-9bc8-46f9-8c28-f6d01bfe825c"
      },
      "execution_count": null,
      "outputs": [
        {
          "output_type": "stream",
          "name": "stdout",
          "text": [
            "Digite o nome: José Souza\n",
            "Digite a idade: 13\n",
            "Digite a altura: 1.55\n",
            "Digite o peso: 45.50\n",
            "\n",
            "O nome é: João Silva\n",
            "A idade é: 30\n",
            "A altura é: 1.65\n",
            "O peso é: 75.50\n",
            "\n",
            "O nome é: José Souza\n",
            "A idade é: 13\n",
            "A altura é: 1.55\n",
            "O peso é: 45.50\n"
          ]
        }
      ]
    },
    {
      "cell_type": "code",
      "source": [
        "#Crie um programa que use uma estrutura para armazenar informações de alunos de uma turma.\n",
        "# A estrutura deve conter nome, frequência e nota final.\n",
        "# O programa deve avaliar quantos alunos obtiveram nota acima de 5, quantos foram reprovados por falta (frequência abaixo de 75%) e a média da turma.\n",
        "# Utilize uma estrutura: struct turma{ ... };\n",
        "%%writefile ex2.c\n",
        "#include<stdio.h>\n",
        "struct turma {\n",
        "  char nome[80];\n",
        "  int frequencia;\n",
        "  int nota_final;\n",
        "};\n",
        "int main(void) {\n",
        "  int tamanho, aprovado_nota, reprovado_frequencia, nota_total = 0;\n",
        "  scanf(\"%d\", &tamanho);\n",
        "  getchar();\n",
        "  struct turma turma[tamanho];\n",
        "  for(int i = 0; i < tamanho; i++) {\n",
        "    fgets(turma[i].nome, 80, stdin);\n",
        "    scanf(\"%d\", &turma[i].frequencia);\n",
        "    getchar();\n",
        "    scanf(\"%d\", &turma[i].nota_final);\n",
        "    getchar();\n",
        "    nota_total = nota_total + turma[i].nota_final;\n",
        "    if (turma[i].nota_final > 5) {\n",
        "      aprovado_nota++;\n",
        "    }\n",
        "    if (turma[i].frequencia < 75) {\n",
        "      reprovado_frequencia++;\n",
        "    }\n",
        "  }\n",
        "  float média = nota_total / tamanho;\n",
        "  printf(\"%d\\n\", aprovado_nota);\n",
        "  printf(\"%d\\n\", reprovado_frequencia);\n",
        "  printf(\"%.2f\\n\", média);\n",
        "  return 0;\n",
        "\n",
        "}"
      ],
      "metadata": {
        "colab": {
          "base_uri": "https://localhost:8080/"
        },
        "id": "ISs-UXX2pwxC",
        "outputId": "71de6c5c-e6f5-45af-ad64-6a2a1e32c1a0"
      },
      "execution_count": null,
      "outputs": [
        {
          "output_type": "stream",
          "name": "stdout",
          "text": [
            "Overwriting ex2.c\n"
          ]
        }
      ]
    },
    {
      "cell_type": "code",
      "source": [
        "!gcc ex2.c -o ex2\n",
        "!./ex2"
      ],
      "metadata": {
        "colab": {
          "base_uri": "https://localhost:8080/"
        },
        "id": "Vb4_aFQ_t7K6",
        "outputId": "eb273462-79d2-45b0-e7f2-e53b9cc07059"
      },
      "execution_count": null,
      "outputs": [
        {
          "output_type": "stream",
          "name": "stdout",
          "text": [
            "2\n",
            "ana\n",
            "100\n",
            "10\n",
            "maria\n",
            "90\n",
            "8\n",
            "2\n",
            "0\n",
            "9.00\n"
          ]
        }
      ]
    },
    {
      "cell_type": "code",
      "source": [
        "# Definir uma estrutura \"coordenada\" que contenha valores x, y e z de um ponto. Instanciar os pontos p1 e p2.\n",
        "# Criar uma função swap para trocar os valores dos dois pontos. Para isso, use passagem por referência. Exiba os valores de p1 e p2 antes e depois do swap.\n",
        "# Utilize a estrutura: struct coordenada{ ... };\n",
        "# Utilize a função: void swap( ... ){ ... }\n",
        "%%writefile ex3.c\n",
        "#include<stdio.h>\n",
        "struct coordenada {\n",
        "  int x;\n",
        "  int y;\n",
        "  int z;\n",
        "};\n",
        "void swap(struct coordenada *c1, struct coordenada *c2) {\n",
        "  struct coordenada aux;\n",
        "  aux = *c1;\n",
        "  *c1 = *c2;\n",
        "  *c2 = aux;\n",
        "}\n",
        "int main(void) {\n",
        "  struct coordenada c1, c2;\n",
        "  printf(\"Digite x, y, z de P1: \\n\");\n",
        "  scanf(\"%d %d %d\", &c1.x, &c1.y, &c1.z);\n",
        "  printf(\"Digite x, y, z de P2: \\n\");\n",
        "  scanf(\"%d %d %d\", &c2.x, &c2.y, &c2.z);\n",
        "  printf(\"ANTES\\n\");\n",
        "  printf(\"P1: (%d,%d,%d) P2: (%d,%d,%d)\\n\", c1.x, c1.y, c1.z, c2.x, c2.y, c2.z);\n",
        "  printf(\"DEPOIS\\n\");\n",
        "  swap(&c1, &c2);\n",
        "  printf(\"P1: (%d,%d,%d) P2: (%d,%d,%d)\", c1.x, c1.y, c1.z, c2.x, c2.y, c2.z);\n",
        "  return 0;\n",
        "\n",
        "}"
      ],
      "metadata": {
        "colab": {
          "base_uri": "https://localhost:8080/"
        },
        "id": "spb-4PvDw5K_",
        "outputId": "cdd0fbb8-91b6-4d96-a88c-059a3465f905"
      },
      "execution_count": null,
      "outputs": [
        {
          "output_type": "stream",
          "name": "stdout",
          "text": [
            "Overwriting ex3.c\n"
          ]
        }
      ]
    },
    {
      "cell_type": "code",
      "source": [
        "!gcc ex3.c -o ex3\n",
        "!./ex3"
      ],
      "metadata": {
        "colab": {
          "base_uri": "https://localhost:8080/"
        },
        "id": "6-bAzijs02wF",
        "outputId": "316dd685-130a-487b-f046-a11c239ed945"
      },
      "execution_count": null,
      "outputs": [
        {
          "output_type": "stream",
          "name": "stdout",
          "text": [
            "Digite x, y, z de P1: \n",
            "1\n",
            "2\n",
            "3\n",
            "Digite x, y, z de P2: \n",
            "4\n",
            "5\n",
            "6\n",
            "ANTES\n",
            "P1: (1,2,3) P2: (4,5,6)\n",
            "DEPOIS\n",
            "P1: (4,5,6) P2: (1,2,3)"
          ]
        }
      ]
    },
    {
      "cell_type": "code",
      "source": [
        "# Crie um programa que armazene o resultado de uma  operação aritmética em uma união \"value\".\n",
        "# O programa principal deve pedir que sejam digitados os operandos inteiros x e y.\n",
        "# A opção da operação também deve ser digitada, sendo 1-Adição, 2-Subtração, 3-Multiplicação e 4-Divisão.\n",
        "# Para adição, subtração e multiplicação, o resultado é armazenado como inteiro na união.\n",
        "# Para a divisão, o resultado é armazenado como um vetor de 2 posições, sendo 1 inteiro para o quociente e 1 inteiro para o resto.\n",
        "# Ainda para a divisão, caso o divisor for 0, o resultado é armazenado como a string \"Erro\". O resultado deve então ser exibido em uma mensagem.\n",
        "# Utilize a união: union value{ ... };\n",
        "%%writefile ex4.c\n",
        "#include<stdio.h>\n",
        "#include<string.h>\n",
        "union value {\n",
        "  int res;\n",
        "  int resto[2];\n",
        "  char Erro[20];\n",
        "};\n",
        "int main(void) {\n",
        "  union value valor;\n",
        "  int x, y, ope;\n",
        "  printf(\"Digite os operandos x e y\\n\");\n",
        "  scanf(\"%d %d\", &x, &y);\n",
        "  printf(\"Digite a operação: 1 - Adição, 2 - Subtração, 3 - Multiplicação , 4 - Divisão\\n\");\n",
        "  scanf(\"%d\", &ope);\n",
        "  switch (ope) {\n",
        "    case 1:\n",
        "    valor.res = x + y;\n",
        "    printf(\"Resultado: %d\", valor.res);\n",
        "    break;\n",
        "    case 2:\n",
        "    valor.res = x - y;\n",
        "    printf(\"Resultado: %d\", valor.res);\n",
        "    break;\n",
        "    case 3:\n",
        "    valor.res = x * y;\n",
        "    printf(\"Resultado: %d\", valor.res);\n",
        "    break;\n",
        "    case 4:\n",
        "    if (y == 0) {\n",
        "      strcpy(valor.Erro, \"Erro\");\n",
        "      printf(\"%s\", valor.Erro);\n",
        "    }\n",
        "    valor.resto[0] = x / y;\n",
        "    valor.resto[1] = x % y;\n",
        "    printf(\"Resultado: %d, resto %d\", valor.resto[0], valor.resto[1]);\n",
        "  }\n",
        "  return 0;\n",
        "\n",
        "}"
      ],
      "metadata": {
        "colab": {
          "base_uri": "https://localhost:8080/"
        },
        "id": "ZQE5T_Wx12Gc",
        "outputId": "14721327-655b-4f45-db58-d68789208bf7"
      },
      "execution_count": null,
      "outputs": [
        {
          "output_type": "stream",
          "name": "stdout",
          "text": [
            "Overwriting ex4.c\n"
          ]
        }
      ]
    },
    {
      "cell_type": "code",
      "source": [
        "!gcc ex4.c -o ex4\n",
        "!./ex4"
      ],
      "metadata": {
        "colab": {
          "base_uri": "https://localhost:8080/"
        },
        "id": "5KsgNTTJ3xsu",
        "outputId": "d272a0cd-86f5-43f4-d2fd-b08eca4b56c7"
      },
      "execution_count": null,
      "outputs": [
        {
          "output_type": "stream",
          "name": "stdout",
          "text": [
            "Digite os operandos x e y\n",
            "1\n",
            "2\n",
            "Digite a operação: 1 - Adição, 2 - Subtração, 3 - Multiplicação , 4 - Divisão\n",
            "3\n",
            "Resultado: 2"
          ]
        }
      ]
    },
    {
      "cell_type": "code",
      "source": [
        "# Neste laboratório, você deve criar um programa para gerenciar o cardápio de um restaurante. O restaurante possui um conjunto de pratos, e cada prato tem um preço associado.\n",
        "%%writefile ex5.c\n",
        "#include<stdio.h>\n",
        "#include<string.h>\n",
        "struct prato {\n",
        "  char nome[20];\n",
        "  float preco;\n",
        "};\n",
        "struct prato cardapio[100];\n",
        "int Numprato = 0;\n",
        "void InserirPrato() {\n",
        "  char nome[20];\n",
        "  float preco;\n",
        "  scanf(\"%s\", nome);\n",
        "  scanf(\"%f\", &preco);\n",
        "  strcpy(cardapio[Numprato].nome, nome);\n",
        "  cardapio[Numprato].preco = preco;\n",
        "  Numprato++;\n",
        "}\n",
        "void RemoverPrato() {\n",
        "  char nome[20];\n",
        "  scanf(\"%s\", nome);\n",
        "  int encontrado = -1;\n",
        "  for(int i = 0; i < Numprato; i++) {\n",
        "    if (strcmp(cardapio[Numprato].nome, nome) == 0) {\n",
        "      encontrado = i;\n",
        "      break;\n",
        "    }\n",
        "  }\n",
        "  if (encontrado = -1) {\n",
        "    printf(\"Prato não encontrado\\n\");\n",
        "    return;\n",
        "  }\n",
        "  for(int i = encontrado; i < Numprato; i++) {\n",
        "    cardapio[i] = cardapio[i+1];\n",
        "  }\n",
        "  Numprato--;\n",
        "\n",
        "}\n",
        "void ListarPratoAlfa() {\n",
        "  if (Numprato == 0) {\n",
        "    printf(\"Nenhum prato cadastrado\\n\");\n",
        "    return;\n",
        "  }\n",
        "  for(int i = 0; i < Numprato; i++) {\n",
        "    for(int j = 0; j < Numprato; j++) {\n",
        "      if (strcmp(cardapio[i].nome, cardapio[j].nome) > 0) {\n",
        "        struct prato temp = cardapio[i];\n",
        "        cardapio[i] = cardapio[j];\n",
        "        cardapio[j] = temp;\n",
        "      }\n",
        "    }\n",
        "  }\n",
        "  for(int i = 0; i < Numprato; i++) {\n",
        "    printf(\"%-20s %6.2f\\n\", cardapio[i].nome, cardapio[i].preco);\n",
        "  }\n",
        "\n",
        "}\n",
        "void ListarPratoPreco() {\n",
        "  if (Numprato == 0) {\n",
        "    printf(\"Nenhum prato cadastrado\\n\");\n",
        "    return;\n",
        "  }\n",
        "  for(int i = 0; i < Numprato; i++) {\n",
        "    for(int j = 0; j < Numprato; j++) {\n",
        "      if (cardapio[i].preco > cardapio[j].preco) {\n",
        "        struct prato temp = cardapio[i];\n",
        "        cardapio[i] = cardapio[j];\n",
        "        cardapio[j] = temp;\n",
        "      }\n",
        "    }\n",
        "  }\n",
        "  for(int i = 0; i < Numprato; i++) {\n",
        "    printf(\"%-20s %6.2f\\n\", cardapio[i].nome, cardapio[i].preco);\n",
        "  }\n",
        "}\n",
        "int main(void) {\n",
        "  int n;\n",
        "  do {\n",
        "    scanf(\"%d\", &n);\n",
        "    switch (n) {\n",
        "      case 0:\n",
        "        break;\n",
        "      case 1:\n",
        "        InserirPrato();\n",
        "        break;\n",
        "      case 2:\n",
        "        RemoverPrato();\n",
        "        break;\n",
        "      case 3:\n",
        "        ListarPratoAlfa();\n",
        "        break;\n",
        "      case 4:\n",
        "        ListarPratoPreco();\n",
        "        break;\n",
        "    }\n",
        "  } while (n != 0);\n",
        "  return 0;\n",
        "\n",
        "}"
      ],
      "metadata": {
        "colab": {
          "base_uri": "https://localhost:8080/"
        },
        "id": "HcLGROpzoXOd",
        "outputId": "0a0c36ca-5c3b-4c48-90ff-5c0d0490f443"
      },
      "execution_count": null,
      "outputs": [
        {
          "output_type": "stream",
          "name": "stdout",
          "text": [
            "Overwriting ex5.c\n"
          ]
        }
      ]
    },
    {
      "cell_type": "code",
      "source": [
        "!gcc ex5.c -o ex5\n",
        "!./ex5"
      ],
      "metadata": {
        "colab": {
          "base_uri": "https://localhost:8080/"
        },
        "id": "Kf4R_VnVsO0D",
        "outputId": "6f41d9b9-d926-412e-d8a9-0de08118148b"
      },
      "execution_count": null,
      "outputs": [
        {
          "output_type": "stream",
          "name": "stdout",
          "text": [
            "1\n",
            "macarrao\n",
            "11.90\n",
            "3\n",
            "macarrao              11.90\n",
            "1\n",
            "feijoada\n",
            "12.90\n",
            "1\n",
            "estrogonofe\n",
            "13.90\n",
            "3\n",
            "macarrao              11.90\n",
            "feijoada              12.90\n",
            "estrogonofe           13.90\n",
            "4\n",
            "estrogonofe           13.90\n",
            "feijoada              12.90\n",
            "macarrao              11.90\n",
            "2\n",
            "feijoada\n",
            "Prato não encontrado\n",
            "3\n",
            "macarrao              11.90\n",
            "feijoada              12.90\n",
            "estrogonofe           13.90\n",
            "2\n",
            "macarrao\n",
            "Prato não encontrado\n",
            "2\n",
            "estrogonofe\n",
            "Prato não encontrado\n",
            "4\n",
            "estrogonofe           13.90\n",
            "feijoada              12.90\n",
            "macarrao              11.90\n",
            "0\n"
          ]
        }
      ]
    }
  ]
}