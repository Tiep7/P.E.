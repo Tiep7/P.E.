{
  "nbformat": 4,
  "nbformat_minor": 0,
  "metadata": {
    "colab": {
      "provenance": [],
      "authorship_tag": "ABX9TyOMfV3BGV8BtetQHgbwRMV7",
      "include_colab_link": true
    },
    "kernelspec": {
      "name": "python3",
      "display_name": "Python 3"
    },
    "language_info": {
      "name": "python"
    }
  },
  "cells": [
    {
      "cell_type": "markdown",
      "metadata": {
        "id": "view-in-github",
        "colab_type": "text"
      },
      "source": [
        "<a href=\"https://colab.research.google.com/github/Tiep7/Programacao_estrutura-linguagem_c/blob/main/Aula_Pr%C3%A1tica_7.ipynb\" target=\"_parent\"><img src=\"https://colab.research.google.com/assets/colab-badge.svg\" alt=\"Open In Colab\"/></a>"
      ]
    },
    {
      "cell_type": "code",
      "execution_count": null,
      "metadata": {
        "colab": {
          "base_uri": "https://localhost:8080/"
        },
        "id": "sBrzU6yViT8K",
        "outputId": "23855d4e-ce6a-4aa7-b8bb-cb35f17d5099"
      },
      "outputs": [
        {
          "output_type": "stream",
          "name": "stdout",
          "text": [
            "Overwriting ex1.c\n"
          ]
        }
      ],
      "source": [
        "%%writefile ex1.c\n",
        "#include<stdio.h>\n",
        "#include<stdlib.h>\n",
        "int main(void) {\n",
        "  int x, y, seed, n;\n",
        "  float media, total = 0;\n",
        "  printf(\"Digite a quantidade de números: \\n\");\n",
        "  scanf(\"%d\", &n);\n",
        "  printf(\"Digite o valor da seed: \\n\");\n",
        "  scanf(\"%d\", &seed);\n",
        "  srand(seed);\n",
        "  FILE *e = fopen(\"exemplo.txt\", \"w\");\n",
        "  for (int i = 0; i < n; i++) {\n",
        "    x = rand()%11;\n",
        "    fprintf(e, \"%d \", x);\n",
        "    printf(\"%d \", x);\n",
        "  }\n",
        "  printf(\"\\n\");\n",
        "  fclose(e);\n",
        "  FILE *l = fopen(\"exemplo.txt\", \"r\");\n",
        "  for(int i = 0; i < n; i++) {\n",
        "    fscanf(l, \"%d\", &y);\n",
        "    total += y;\n",
        "  }\n",
        "  fclose(l);\n",
        "  media = total / n;\n",
        "  printf(\"Média = %.2f\", media);\n",
        "  return 0;\n",
        "\n",
        "}"
      ]
    },
    {
      "cell_type": "code",
      "source": [
        "!gcc ex1.c -o ex1\n",
        "!./ex1"
      ],
      "metadata": {
        "colab": {
          "base_uri": "https://localhost:8080/"
        },
        "id": "61PzaHyJkAtc",
        "outputId": "8c2f0b69-c925-4d0e-a449-a7a9045dc541"
      },
      "execution_count": null,
      "outputs": [
        {
          "output_type": "stream",
          "name": "stdout",
          "text": [
            "Digite a quantidade de números: \n",
            "5\n",
            "Digite o valor da seed: \n",
            "0\n",
            "6 10 6 2 1 \n",
            "Média = 5.00"
          ]
        }
      ]
    },
    {
      "cell_type": "code",
      "source": [
        "# Implemente um programa em C que leia o conteúdo de um arquivo texto e exiba-o no terminal.\n",
        "%%writefile c1.c\n",
        "#include<stdio.h>\n",
        "#include<stdlib.h>\n",
        "int main(void) {\n",
        "  FILE *arq = fopen(\"ex1.txt\", \"w\");\n",
        "  char nome;\n",
        "  fprintf(arq, \"Olá mundo\");\n",
        "  fclose(arq);\n",
        "  FILE *leitura = fopen(\"ex1.txt\", \"r\");\n",
        "  while(fscanf(leitura, \"%c\", &nome) != EOF) {\n",
        "    printf(\"%c\", nome);\n",
        "  }\n",
        "  fclose(leitura);\n",
        "  return 0;\n",
        "}\n"
      ],
      "metadata": {
        "colab": {
          "base_uri": "https://localhost:8080/"
        },
        "id": "_krMKDDz_w0o",
        "outputId": "c7d70b2f-4dcd-487c-8c12-de181159616e"
      },
      "execution_count": null,
      "outputs": [
        {
          "output_type": "stream",
          "name": "stdout",
          "text": [
            "Overwriting c1.c\n"
          ]
        }
      ]
    },
    {
      "cell_type": "code",
      "source": [
        "!gcc c1.c -o c1\n",
        "!./c1"
      ],
      "metadata": {
        "colab": {
          "base_uri": "https://localhost:8080/"
        },
        "id": "cnVuq2ONAgQI",
        "outputId": "53a9779b-f9d7-4d9d-a943-0c47cf00b9d3"
      },
      "execution_count": null,
      "outputs": [
        {
          "output_type": "stream",
          "name": "stdout",
          "text": [
            "Olá mundo"
          ]
        }
      ]
    },
    {
      "cell_type": "code",
      "source": [
        "# Escreva um programa que copie o conteúdo de um arquivo texto para outro arquivo, caractere por caractere.\n",
        "%%writefile c2.c\n",
        "#include<stdio.h>\n",
        "#include<stdlib.h>\n",
        "int main(void) {\n",
        "  FILE *arq = fopen(\"arquivo.txt\", \"w\");\n",
        "  char algo;\n",
        "  fprintf(arq, \"Yuri Alberto\");\n",
        "  fclose(arq);\n",
        "  FILE *leitura = fopen(\"arquivo.txt\", \"r\");\n",
        "  FILE *Escreva = fopen(\"arq2.txt\", \"w\");\n",
        "  while(fscanf(leitura, \"%c\", &algo) != EOF) {\n",
        "      fprintf(Escreva, \"%c\", algo);\n",
        "      printf(\"%c\", algo);\n",
        "  }\n",
        "  fclose(leitura);\n",
        "  fclose(Escreva);\n",
        "  return 0;\n",
        "}"
      ],
      "metadata": {
        "colab": {
          "base_uri": "https://localhost:8080/"
        },
        "id": "h-rX1fLBEj3R",
        "outputId": "abb5bb34-decc-4e15-803d-90c3fd39d723"
      },
      "execution_count": null,
      "outputs": [
        {
          "output_type": "stream",
          "name": "stdout",
          "text": [
            "Overwriting c2.c\n"
          ]
        }
      ]
    },
    {
      "cell_type": "code",
      "source": [
        "!gcc c2.c -o c2\n",
        "!./c2"
      ],
      "metadata": {
        "colab": {
          "base_uri": "https://localhost:8080/"
        },
        "id": "qHrMQJ9LGTku",
        "outputId": "4d4029a8-1b46-40ab-e26a-b7097296d26f"
      },
      "execution_count": null,
      "outputs": [
        {
          "output_type": "stream",
          "name": "stdout",
          "text": [
            "Yuri Alberto"
          ]
        }
      ]
    },
    {
      "cell_type": "code",
      "source": [
        "# Crie uma estrutura representando um atleta.\n",
        "# Essa estrutura deve conter o nome do atleta, seu esporte, idade e altura. Agora, escreva um programa que leia os dados de cinco atletas e os armazene em um arquivo binário.\n",
        "%%writefile g1.c\n",
        "#include<stdio.h>\n",
        "#include<string.h>\n",
        "struct atleta {\n",
        "  char nome[50];\n",
        "  char esporte[50];\n",
        "  int idade;\n",
        "  float altura;\n",
        "};\n",
        "int main(void) {\n",
        "  struct atleta atletas[5];\n",
        "  FILE *arq = fopen(\"arq.bin\", \"wb\");\n",
        "  for(int i = 0; i < 5; i++) {\n",
        "    scanf(\"%s\", &atletas[i].nome);\n",
        "    scanf(\"%s\", &atletas[i].esporte);\n",
        "    scanf(\"%d\", &atletas[i].idade);\n",
        "    scanf(\"%f\", &atletas[i].altura);\n",
        "    fwrite(&atletas[i], sizeof(struct atleta), 1, arq);\n",
        "  }\n",
        "  fclose(arq);\n",
        "  printf(\"Os atletas guardados foram: \");\n",
        "  for(int i = 0; i < 5; i++) {\n",
        "    printf(\"%s\\n\", atletas[i].nome);\n",
        "    printf(\"%s\\n\", atletas[i].esporte);\n",
        "    printf(\"%d\\n\", atletas[i].idade);\n",
        "    printf(\"%.2f\\n\\n\", atletas[i].altura);\n",
        "  }\n",
        "  return 0;\n",
        "}"
      ],
      "metadata": {
        "colab": {
          "base_uri": "https://localhost:8080/"
        },
        "id": "19hg2444M6m1",
        "outputId": "31731a5a-b32d-45c5-e9b9-fb5c5946e09b"
      },
      "execution_count": null,
      "outputs": [
        {
          "output_type": "stream",
          "name": "stdout",
          "text": [
            "Overwriting g1.c\n"
          ]
        }
      ]
    },
    {
      "cell_type": "code",
      "source": [
        "!gcc g1.c -o g1\n",
        "!./g1"
      ],
      "metadata": {
        "colab": {
          "base_uri": "https://localhost:8080/"
        },
        "id": "lNSIy2k5Ql2Z",
        "outputId": "8c1aaf05-cdc1-4d4a-8e05-56b0aad3709f"
      },
      "execution_count": null,
      "outputs": [
        {
          "output_type": "stream",
          "name": "stdout",
          "text": [
            "\u001b[01m\u001b[Kg1.c:\u001b[m\u001b[K In function ‘\u001b[01m\u001b[Kmain\u001b[m\u001b[K’:\n",
            "\u001b[01m\u001b[Kg1.c:12:13:\u001b[m\u001b[K \u001b[01;35m\u001b[Kwarning: \u001b[m\u001b[Kformat ‘\u001b[01m\u001b[K%s\u001b[m\u001b[K’ expects argument of type ‘\u001b[01m\u001b[Kchar *\u001b[m\u001b[K’, but argument 2 has type ‘\u001b[01m\u001b[Kchar (*)[50]\u001b[m\u001b[K’ [\u001b[01;35m\u001b[K\u001b]8;;https://gcc.gnu.org/onlinedocs/gcc/Warning-Options.html#index-Wformat=\u0007-Wformat=\u001b]8;;\u0007\u001b[m\u001b[K]\n",
            "   12 |     scanf(\"\u001b[01;35m\u001b[K%s\u001b[m\u001b[K\", \u001b[32m\u001b[K&atleta[i].nome\u001b[m\u001b[K);\n",
            "      |            \u001b[01;35m\u001b[K~^\u001b[m\u001b[K   \u001b[32m\u001b[K~~~~~~~~~~~~~~~\u001b[m\u001b[K\n",
            "      |             \u001b[01;35m\u001b[K|\u001b[m\u001b[K   \u001b[32m\u001b[K|\u001b[m\u001b[K\n",
            "      |             \u001b[01;35m\u001b[K|\u001b[m\u001b[K   \u001b[32m\u001b[Kchar (*)[50]\u001b[m\u001b[K\n",
            "      |             \u001b[01;35m\u001b[Kchar *\u001b[m\u001b[K\n",
            "\u001b[01m\u001b[Kg1.c:13:13:\u001b[m\u001b[K \u001b[01;35m\u001b[Kwarning: \u001b[m\u001b[Kformat ‘\u001b[01m\u001b[K%s\u001b[m\u001b[K’ expects argument of type ‘\u001b[01m\u001b[Kchar *\u001b[m\u001b[K’, but argument 2 has type ‘\u001b[01m\u001b[Kchar (*)[50]\u001b[m\u001b[K’ [\u001b[01;35m\u001b[K\u001b]8;;https://gcc.gnu.org/onlinedocs/gcc/Warning-Options.html#index-Wformat=\u0007-Wformat=\u001b]8;;\u0007\u001b[m\u001b[K]\n",
            "   13 |     scanf(\"\u001b[01;35m\u001b[K%s\u001b[m\u001b[K\", \u001b[32m\u001b[K&atleta[i].esporte\u001b[m\u001b[K);\n",
            "      |            \u001b[01;35m\u001b[K~^\u001b[m\u001b[K   \u001b[32m\u001b[K~~~~~~~~~~~~~~~~~~\u001b[m\u001b[K\n",
            "      |             \u001b[01;35m\u001b[K|\u001b[m\u001b[K   \u001b[32m\u001b[K|\u001b[m\u001b[K\n",
            "      |             \u001b[01;35m\u001b[K|\u001b[m\u001b[K   \u001b[32m\u001b[Kchar (*)[50]\u001b[m\u001b[K\n",
            "      |             \u001b[01;35m\u001b[Kchar *\u001b[m\u001b[K\n",
            "ronaldo\n",
            "futebol\n",
            "39\n",
            "1.87\n",
            "garro\n",
            "futebol\n",
            "26\n",
            "1.70\n",
            "lebron\n",
            "basquete\n",
            "2.08\n",
            "39\n",
            "curry\n",
            "basquete\n",
            "1.88\n",
            "36\n",
            "lewis\n",
            "Os atletas guardados foram: ronaldo\n",
            "futebol\n",
            "39\n",
            "1.87\n",
            "garro\n",
            "futebol\n",
            "26\n",
            "1.70\n",
            "lebron\n",
            "basquete\n",
            "2\n",
            "0.08\n",
            "39\n",
            "curry\n",
            "0\n",
            "0.00\n",
            "basquete\n",
            "1.88\n",
            "36\n",
            "0.00\n"
          ]
        }
      ]
    },
    {
      "cell_type": "code",
      "source": [
        "# Escreva um programa que: (a) Crie/abra um arquivo texto de nome “arq.txt”;\n",
        "#  (b) Permita que o usuario grave diversos caracteres nesse arquivo, até que o usuário entre com o caractere ‘0’; (c) Feche o arquivo.\n",
        "# Agora, abra e leia o arquivo, caractere por caractere, e escreva na tela todos os caracteres armazenados.\n",
        "%%writefile g2.c\n",
        "#include<stdio.h>\n",
        "int main(void) {\n",
        "  FILE *arq = fopen(\"arq.txt\", \"w\");\n",
        "  char algo;\n",
        "  while(algo != '0') {\n",
        "    scanf(\"%c\", &algo);\n",
        "    if ( algo != '0') {\n",
        "          fprintf(arq, \"%c\", algo);\n",
        "    }\n",
        "  }\n",
        "  fclose(arq);\n",
        "  FILE *leitura = fopen(\"arq.txt\", \"r\");\n",
        "  char escrita;\n",
        "  while(fscanf(leitura, \"%c\", &escrita) != EOF) {\n",
        "    printf(\"%c\", escrita);\n",
        "  }\n",
        "  return 0;\n",
        "}"
      ],
      "metadata": {
        "colab": {
          "base_uri": "https://localhost:8080/"
        },
        "id": "yC7OMm91NBo0",
        "outputId": "d3c5a977-69d3-4eb8-e3ea-652bd70d5885"
      },
      "execution_count": null,
      "outputs": [
        {
          "output_type": "stream",
          "name": "stdout",
          "text": [
            "Overwriting g2.c\n"
          ]
        }
      ]
    },
    {
      "cell_type": "code",
      "source": [
        "!gcc g2.c -o g2\n",
        "!./g2"
      ],
      "metadata": {
        "colab": {
          "base_uri": "https://localhost:8080/"
        },
        "id": "nda6Kio9NdmX",
        "outputId": "1f2ba5df-500a-4d78-e312-daf9ddce9f55"
      },
      "execution_count": null,
      "outputs": [
        {
          "output_type": "stream",
          "name": "stdout",
          "text": [
            "garro\n",
            "yuri alberto\n",
            "memphis\n",
            "0\n",
            "garro\n",
            "yuri alberto\n",
            "memphis\n"
          ]
        }
      ]
    }
  ]
}