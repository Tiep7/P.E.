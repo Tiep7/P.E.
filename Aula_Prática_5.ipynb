{
  "nbformat": 4,
  "nbformat_minor": 0,
  "metadata": {
    "colab": {
      "provenance": [],
      "authorship_tag": "ABX9TyMKk1iKBnkxSfsd964zDf0F",
      "include_colab_link": true
    },
    "kernelspec": {
      "name": "python3",
      "display_name": "Python 3"
    },
    "language_info": {
      "name": "python"
    }
  },
  "cells": [
    {
      "cell_type": "markdown",
      "metadata": {
        "id": "view-in-github",
        "colab_type": "text"
      },
      "source": [
        "<a href=\"https://colab.research.google.com/github/Tiep7/Programacao_estrutura-linguagem_c/blob/main/Aula_Pr%C3%A1tica_5.ipynb\" target=\"_parent\"><img src=\"https://colab.research.google.com/assets/colab-badge.svg\" alt=\"Open In Colab\"/></a>"
      ]
    },
    {
      "cell_type": "code",
      "source": [
        "# calcular produto escalar de 2 vetores\n",
        "\n",
        "%%writefile exemplo1.c\n",
        "#include <stdio.h>\n",
        "#include <stdlib.h>\n",
        "\n",
        "int main(void) {\n",
        "  int n;\n",
        "  double *v1, *v2, p;\n",
        "  printf(\"Digite o tamanho do vetor: \");\n",
        "  scanf(\"%d\", &n);\n",
        "  v1 = malloc(n * sizeof(double));\n",
        "  v2 = malloc(n * sizeof(double));\n",
        "  p = 0;\n",
        "\n",
        "  printf(\"Digite os elementos do primeiro vetor: \");\n",
        "  for (int i = 0; i < n; i++) {\n",
        "    scanf(\"%lf\", &v1[i]);\n",
        "  }\n",
        "  printf(\"Digite os elementos do segundo vetor: \");\n",
        "  for (int i = 0; i < n; i++) {\n",
        "    scanf(\"%lf\", &v2[i]);\n",
        "  }\n",
        "  for (int i = 0; i < n; i++) {\n",
        "    p = p + (v1[i] * v2[i]);\n",
        "  }\n",
        "  printf(\"O produto escalar é: \\n\");\n",
        "  printf(\"%.2lf\", p);\n",
        "  free(v1);\n",
        "  free(v2);\n",
        "  return 0;\n",
        "}"
      ],
      "metadata": {
        "colab": {
          "base_uri": "https://localhost:8080/"
        },
        "id": "KqulYAX-tXBU",
        "outputId": "c488df3f-552c-4904-d881-7507f6a8a469"
      },
      "execution_count": null,
      "outputs": [
        {
          "output_type": "stream",
          "name": "stdout",
          "text": [
            "Overwriting exemplo1.c\n"
          ]
        }
      ]
    },
    {
      "cell_type": "code",
      "source": [
        "!gcc exemplo1.c -o exemplo1\n",
        "!./exemplo1"
      ],
      "metadata": {
        "colab": {
          "base_uri": "https://localhost:8080/"
        },
        "id": "xoPgzxbsvXq6",
        "outputId": "560ae300-8fc7-4a18-a5db-b2826a36071b"
      },
      "execution_count": null,
      "outputs": [
        {
          "output_type": "stream",
          "name": "stdout",
          "text": [
            "Digite o tamanho do vetor: 2\n",
            "Digite os elementos do primeiro vetor: 1\n",
            "1\n",
            "Digite os elementos do segundo vetor: 1\n",
            "1\n",
            "O produto escalar é: \n",
            "2.00"
          ]
        }
      ]
    },
    {
      "cell_type": "code",
      "source": [
        "#Escreva um programa que contenha duas variáveis inteiras. Compare seus endereços e exiba o maior endereço.\n",
        "%%writefile g1.c\n",
        "#include <stdio.h>\n",
        "\n",
        "int main() {\n",
        "    int a, b, *p1, *p2;\n",
        "    printf(\"Digite o valor de a: \");\n",
        "    scanf(\"%d\", &a);\n",
        "    printf(\"Digite o valor de b: \");\n",
        "    scanf(\"%d\", &b);\n",
        "    p1 = &a;\n",
        "    p2 = &b;\n",
        "    if (p1 > p2) {\n",
        "        printf(\"o endereço de a (%p) é maior que o endereço de b (%p)\\n\", p1, p2);\n",
        "    } else {\n",
        "        printf(\"o endereço de b (%p) é maior que o endereço de a (%p)\\n\", p2, p1);\n",
        "    }\n",
        "    return 0;\n",
        "}"
      ],
      "metadata": {
        "id": "yUF8bpopLVAf",
        "colab": {
          "base_uri": "https://localhost:8080/"
        },
        "outputId": "5fa02fd7-f16e-466a-bdd3-831c58212b8b"
      },
      "execution_count": null,
      "outputs": [
        {
          "output_type": "stream",
          "name": "stdout",
          "text": [
            "Writing g1.c\n"
          ]
        }
      ]
    },
    {
      "cell_type": "code",
      "source": [
        "!gcc g1.c -o g1\n",
        "!./g1"
      ],
      "metadata": {
        "colab": {
          "base_uri": "https://localhost:8080/"
        },
        "id": "skgnkcdU5Tu5",
        "outputId": "7298a772-eb50-4acf-9f72-4cb2431f8200"
      },
      "execution_count": null,
      "outputs": [
        {
          "output_type": "stream",
          "name": "stdout",
          "text": [
            "Digite o valor de a: 10\n",
            "Digite o valor de b: 10\n",
            "o endereço de b (0x7ffc12ce6b74) é maior que o endereço de a (0x7ffc12ce6b70)\n"
          ]
        }
      ]
    },
    {
      "cell_type": "code",
      "source": [
        "# Crie um programa que contenha uma matriz de float contendo três linhas e três colunas. Imprima o endereço de cada posição dessa matriz.\n",
        "%%writefile g2.c\n",
        "#include<stdio.h>\n",
        "int main(void) {\n",
        "  float matriz[3][3] = {{1, 2, 3}, {4, 5, 6}, {7, 8, 9}};\n",
        "  for(int i = 0; i < 3; i++) {\n",
        "    for(int j = 0; j < 3; j++) {\n",
        "      printf(\"Endereço %d: %p\\n\", i, &matriz[i][j]);\n",
        "    }\n",
        "    printf(\"\\n\");\n",
        "  }\n",
        "  return 0;\n",
        "}"
      ],
      "metadata": {
        "colab": {
          "base_uri": "https://localhost:8080/"
        },
        "id": "5yHBMQc57OD-",
        "outputId": "99b2d4c6-ec39-4a16-f023-938fa4b744d5"
      },
      "execution_count": null,
      "outputs": [
        {
          "output_type": "stream",
          "name": "stdout",
          "text": [
            "Overwriting g2.c\n"
          ]
        }
      ]
    },
    {
      "cell_type": "code",
      "source": [
        "!gcc g2.c -o g2\n",
        "!./g2"
      ],
      "metadata": {
        "colab": {
          "base_uri": "https://localhost:8080/"
        },
        "id": "P_FK-0l18c3x",
        "outputId": "5b115675-c4c8-45a5-e95c-213853115df6"
      },
      "execution_count": null,
      "outputs": [
        {
          "output_type": "stream",
          "name": "stdout",
          "text": [
            "Endereço 0: 0x7ffd29046970\n",
            "Endereço 0: 0x7ffd29046974\n",
            "Endereço 0: 0x7ffd29046978\n",
            "\n",
            "Endereço 1: 0x7ffd2904697c\n",
            "Endereço 1: 0x7ffd29046980\n",
            "Endereço 1: 0x7ffd29046984\n",
            "\n",
            "Endereço 2: 0x7ffd29046988\n",
            "Endereço 2: 0x7ffd2904698c\n",
            "Endereço 2: 0x7ffd29046990\n",
            "\n"
          ]
        }
      ]
    },
    {
      "cell_type": "code",
      "source": [
        "# Crie um programa que contenha um array de inteiros contendo cinco elementos.\n",
        "# Utilizando apenas aritmética de ponteiros, leia esse array do teclado e imprima o dobro de cada valor lido.\n",
        "%%writefile g3.c\n",
        "#include<stdio.h>\n",
        "int main(void) {\n",
        "  int *p;\n",
        "  int v[5];\n",
        "  p = v;\n",
        "  printf(\"Digite os elementos do vetor: \");\n",
        "  for(int i = 0; i < 5; i++) {\n",
        "    scanf(\"%d\", &*(p+i));\n",
        "  }\n",
        "  for(int i = 0; i < 5; i++) {\n",
        "    printf(\"O dobro do vetor: %d\\n\", (*(p+i))*2);\n",
        "  }\n",
        "  return 0;\n",
        "}"
      ],
      "metadata": {
        "colab": {
          "base_uri": "https://localhost:8080/"
        },
        "id": "S4bXsVA65xB-",
        "outputId": "5814f7c9-91c3-47f3-f754-7777e76f2dc6"
      },
      "execution_count": null,
      "outputs": [
        {
          "output_type": "stream",
          "name": "stdout",
          "text": [
            "Writing g3.c\n"
          ]
        }
      ]
    },
    {
      "cell_type": "code",
      "source": [
        "!gcc g3.c -o g3\n",
        "!./g3"
      ],
      "metadata": {
        "colab": {
          "base_uri": "https://localhost:8080/"
        },
        "id": "rfxN5B-C6qQb",
        "outputId": "b5105ebf-70bc-46fe-8f53-2d9edd0542d7"
      },
      "execution_count": null,
      "outputs": [
        {
          "output_type": "stream",
          "name": "stdout",
          "text": [
            "Digite os elementos do vetor: 1\n",
            "2\n",
            "3\n",
            "4\n",
            "5\n",
            "O dobro do vetor: 2\n",
            "O dobro do vetor: 4\n",
            "O dobro do vetor: 6\n",
            "O dobro do vetor: 8\n",
            "O dobro do vetor: 10\n"
          ]
        }
      ]
    },
    {
      "cell_type": "code",
      "source": [
        "# Mesclando dois exercícios: Crie uma função que receba dois parâmetros: um vetor e um valor do mesmo tipo do vetor.\n",
        "# A função deverá preencher os elementos de vetor com esse valor. Não utilize índices para percorrer o vetor, apenas aritmética de ponteiros.\n",
        "# Crie uma função que receba como parâmetro um vetor e o imprima. Não utilize índices para percorrer o vetor, apenas aritmética de ponteiros.\n",
        "%%writefile g4.c\n",
        "#include<stdio.h>\n",
        "#include<stdlib.h>\n",
        "void cr7(int v[], int N) {\n",
        "  int *p;\n",
        "  p = v;\n",
        "  for(int i = 0; i < 5; i++) {\n",
        "    *(p+i) = N;\n",
        "  }\n",
        "}\n",
        "void show_vec(int v[]) {\n",
        "  int *p;\n",
        "  p = v;\n",
        "  for(int i = 0; i < 5; i++) {\n",
        "    printf(\"%d \", *(p+i));\n",
        "  }\n",
        "}\n",
        "int main(void) {\n",
        "  int n = 7;\n",
        "  int vetor[5];\n",
        "  cr7(vetor, n);\n",
        "  show_vec(vetor);\n",
        "  return 0;\n",
        "\n",
        "}"
      ],
      "metadata": {
        "colab": {
          "base_uri": "https://localhost:8080/"
        },
        "id": "Sv9jtzLw7E-O",
        "outputId": "e3ae7033-2c7f-4769-b43c-694f5ac40b1b"
      },
      "execution_count": null,
      "outputs": [
        {
          "output_type": "stream",
          "name": "stdout",
          "text": [
            "Overwriting g4.c\n"
          ]
        }
      ]
    },
    {
      "cell_type": "code",
      "source": [
        "!gcc g4.c -o g4\n",
        "!./g4"
      ],
      "metadata": {
        "colab": {
          "base_uri": "https://localhost:8080/"
        },
        "id": "kz-PnughDMcB",
        "outputId": "636590e9-3bfe-464a-9a58-dd8b3cf302b8"
      },
      "execution_count": null,
      "outputs": [
        {
          "output_type": "stream",
          "name": "stdout",
          "text": [
            "7 7 7 7 7 "
          ]
        }
      ]
    },
    {
      "cell_type": "code",
      "source": [
        "# Declare um ponteiro para um int, atribua o endereço de uma variável e imprima o valor usando o ponteiro.\n",
        "%%writefile c1.c\n",
        "#include<stdio.h>\n",
        "int main(void) {\n",
        "  int n, *p;\n",
        "  printf(\"Digite um número inteiro: \");\n",
        "  scanf(\"%d\", &n);\n",
        "  p = &n;\n",
        "  printf(\"%d\", *p);\n",
        "  return 0;\n",
        "}"
      ],
      "metadata": {
        "colab": {
          "base_uri": "https://localhost:8080/"
        },
        "id": "CgEaYTnLW9bl",
        "outputId": "4bd291b1-2558-4848-c677-cb9053c8307e"
      },
      "execution_count": null,
      "outputs": [
        {
          "output_type": "stream",
          "name": "stdout",
          "text": [
            "Writing c1.c\n"
          ]
        }
      ]
    },
    {
      "cell_type": "code",
      "source": [
        "!gcc c1.c -o c1\n",
        "!./c1"
      ],
      "metadata": {
        "colab": {
          "base_uri": "https://localhost:8080/"
        },
        "id": "_ezXhkPSXUOZ",
        "outputId": "d3dd8b14-5200-4c14-cd85-792edc38c75b"
      },
      "execution_count": null,
      "outputs": [
        {
          "output_type": "stream",
          "name": "stdout",
          "text": [
            "Digite um número inteiro: 7\n",
            "7"
          ]
        }
      ]
    },
    {
      "cell_type": "code",
      "source": [
        "# Crie um vetor de tamanho 5, atribua valores e imprima usando um ponteiro.\n",
        "%%writefile c2.c\n",
        "#include<stdio.h>\n",
        "int main(void) {\n",
        "  int *p;\n",
        "  int vetor[5];\n",
        "  p = vetor;\n",
        "  printf(\"Digite os elementos do vetor: \");\n",
        "  for(int i = 0; i < 5; i++) {\n",
        "    scanf(\"%d\", &*(p+i));\n",
        "  }\n",
        "  printf(\"O vetor é: \");\n",
        "  for(int i = 0; i < 5; i++) {\n",
        "    printf(\"%d \", *(p+i));\n",
        "  }\n",
        "  return 0;\n",
        "}"
      ],
      "metadata": {
        "colab": {
          "base_uri": "https://localhost:8080/"
        },
        "id": "iuOoDd_YXc4A",
        "outputId": "5fd34070-cd26-4d2d-b8a4-e0df208a56e8"
      },
      "execution_count": null,
      "outputs": [
        {
          "output_type": "stream",
          "name": "stdout",
          "text": [
            "Overwriting c2.c\n"
          ]
        }
      ]
    },
    {
      "cell_type": "code",
      "source": [
        "!gcc c2.c -o c2\n",
        "!./c2"
      ],
      "metadata": {
        "colab": {
          "base_uri": "https://localhost:8080/"
        },
        "id": "WdWtPxzoX7dy",
        "outputId": "81c347b5-eaf1-4e38-e225-2d058b37b4e6"
      },
      "execution_count": null,
      "outputs": [
        {
          "output_type": "stream",
          "name": "stdout",
          "text": [
            "Digite os elementos do vetor: 1\n",
            "2\n",
            "3\n",
            "4\n",
            "5\n",
            "O vetor é: 1 2 3 4 5 "
          ]
        }
      ]
    },
    {
      "cell_type": "code",
      "source": [
        "# Escreva um programa que aloca dinamicamente memória para armazenar 10 inteiros, preenche com valores e os imprime.\n",
        "%%writefile c3.c\n",
        "#include<stdio.h>\n",
        "#include<stdlib.h>\n",
        "int main(void) {\n",
        "  int *v;\n",
        "  v = malloc(10 * sizeof(int));\n",
        "  printf(\"Digite os elementos do vetor: \");\n",
        "  for(int i = 0; i < 10; i++) {\n",
        "    scanf(\"%d\", &v[i]);\n",
        "  }\n",
        "  printf(\"O vetor é: \");\n",
        "  for(int i = 0; i < 10; i++) {\n",
        "    printf(\"%d \", v[i]);\n",
        "  }\n",
        "  return 0;\n",
        "\n",
        "}"
      ],
      "metadata": {
        "colab": {
          "base_uri": "https://localhost:8080/"
        },
        "id": "TZaiCD4LYTlw",
        "outputId": "b35be057-e2fc-4a42-9596-a264c816ea08"
      },
      "execution_count": null,
      "outputs": [
        {
          "output_type": "stream",
          "name": "stdout",
          "text": [
            "Overwriting c3.c\n"
          ]
        }
      ]
    },
    {
      "cell_type": "code",
      "source": [
        "!gcc c3.c -o c3\n",
        "!./c3"
      ],
      "metadata": {
        "colab": {
          "base_uri": "https://localhost:8080/"
        },
        "id": "5PHOtVxbY53Z",
        "outputId": "dc36f92e-d2a2-47d3-9702-b144f6289cc3"
      },
      "execution_count": null,
      "outputs": [
        {
          "output_type": "stream",
          "name": "stdout",
          "text": [
            "Digite os elementos do vetor: 1\n",
            "2\n",
            "3\n",
            "4\n",
            "5\n",
            "6\n",
            "7\n",
            "8\n",
            "9\n",
            "10\n",
            "O vetor é: 1 2 3 4 5 6 7 8 9 10 "
          ]
        }
      ]
    },
    {
      "cell_type": "code",
      "execution_count": null,
      "metadata": {
        "colab": {
          "base_uri": "https://localhost:8080/"
        },
        "id": "sdYs-fg2jqj9",
        "outputId": "4cf77f1b-fbd9-4877-d51b-4167042b6522"
      },
      "outputs": [
        {
          "output_type": "stream",
          "name": "stdout",
          "text": [
            "Writing ex1.c\n"
          ]
        }
      ],
      "source": [
        "%%writefile exemplo2.c\n",
        "#include <stdio.h>\n",
        "#include <stdlib.h>\n",
        "\n",
        "int main() {\n",
        "    int n;\n",
        "    double *vetor1, *vetor2, *soma;\n",
        "    printf(\"Digite o tamanho do vetor: \");\n",
        "    scanf(\"%d\", &n);\n",
        "\n",
        "    vetor1 = malloc(n * sizeof(double));\n",
        "    vetor2 = malloc(n * sizeof(double));\n",
        "    soma = malloc(n * sizeof(double));\n",
        "\n",
        "    printf(\"Digite os elementos do primeiro vetor: \\n\");\n",
        "    for (int i = 0; i < n; i++) {\n",
        "        scanf(\"%lf\", &vetor1[i]);\n",
        "    }\n",
        "\n",
        "\n",
        "    printf(\"Digite os elementos do segundo vetor: \\n\");\n",
        "    for (int i = 0; i < n; i++) {\n",
        "        scanf(\"%lf\", &vetor2[i]);\n",
        "    }\n",
        "\n",
        "    for (int i = 0; i < n; i++) {\n",
        "        soma[i] = vetor1[i] + vetor2[i];\n",
        "    }\n",
        "\n",
        "    printf(\"O resultado da soma é: \\n\");\n",
        "    for (int i = 0; i < n; i++) {\n",
        "        printf(\"%.2lf \", soma[i]);\n",
        "    }\n",
        "    printf(\"\\n\");\n",
        "\n",
        "    free(vetor1);\n",
        "    free(vetor2);\n",
        "    free(soma);\n",
        "\n",
        "    return 0;\n",
        "}"
      ]
    },
    {
      "cell_type": "code",
      "source": [
        "!gcc exemplo2.c -o exemplo2\n",
        "!./exemplo2"
      ],
      "metadata": {
        "colab": {
          "base_uri": "https://localhost:8080/"
        },
        "id": "naybjbvZj_jG",
        "outputId": "499c0c37-f87c-461b-c934-d9aedc9aeb82"
      },
      "execution_count": null,
      "outputs": [
        {
          "output_type": "stream",
          "name": "stdout",
          "text": [
            "Digite o tamanho do vetor: 4\n",
            "Digite os elementos do primeiro vetor: \n",
            "1\n",
            "2\n",
            "3\n",
            "4\n",
            "Digite os elementos do segundo vetor: \n",
            "4\n",
            "3\n",
            "2\n",
            "1\n",
            "O resultado da soma é: \n",
            "5.00 5.00 5.00 5.00 \n"
          ]
        }
      ]
    },
    {
      "cell_type": "code",
      "source": [
        "#Crie um programa que exiba o resultado de operações (+ - * / % ) envolvendo dois valores inteiros digitados pelo usuário.\n",
        "#Os valores digitados e o resultados das operações devem ser armazenados cada um em uma variável. Contudo, o cálculo deve ser feito por meio de ponteiros.\n",
        "#Este exercício pode ser feito usando três ponteiros: dois para os operandos e um para o resultado.\n",
        "%%writefile ex1.c\n",
        "#include<stdio.h>\n",
        "int main(void) {\n",
        "  int x, y, r;\n",
        "  int *px, *py, *pr;\n",
        "  printf(\"Digite 2 valores inteiros: \");\n",
        "  scanf(\"%d %d\", &x, &y);\n",
        "  px = &x;\n",
        "  py = &y;\n",
        "  pr = &r;\n",
        "  *pr = *px + *py;\n",
        "  printf(\"A soma é: %d\\n\", *pr);\n",
        "  *pr = *px - *py;\n",
        "  printf(\"A subtração é: %d\\n\", *pr);\n",
        "  *pr = *px * *py;\n",
        "  printf(\"A multiplicação é: %d\\n\", *pr);\n",
        "  *pr = *px / *py;\n",
        "  printf(\"A divisão é: %d\\n\", *pr);\n",
        "  *pr = *px % *py;\n",
        "  printf(\"O resto é: %d\\n\", *pr);\n",
        "  return 0;\n",
        "\n",
        "}"
      ],
      "metadata": {
        "colab": {
          "base_uri": "https://localhost:8080/"
        },
        "id": "m1vdyToIfTxj",
        "outputId": "7ac34c43-77f6-4784-af1b-c9f85afe9dae"
      },
      "execution_count": null,
      "outputs": [
        {
          "output_type": "stream",
          "name": "stdout",
          "text": [
            "Overwriting ex1.c\n"
          ]
        }
      ]
    },
    {
      "cell_type": "code",
      "source": [
        "!gcc ex1.c -o ex1\n",
        "!./ex1"
      ],
      "metadata": {
        "colab": {
          "base_uri": "https://localhost:8080/"
        },
        "id": "DDfRKPiggfRh",
        "outputId": "ffdc8efb-574e-4e6f-9a6d-2421df9b6a47"
      },
      "execution_count": null,
      "outputs": [
        {
          "output_type": "stream",
          "name": "stdout",
          "text": [
            "Digite 2 valores inteiros: 1\n",
            "1\n",
            "A soma é: 2\n",
            "A subtração é: 0\n",
            "A multiplicação é: 1\n",
            "A divisão é: 1\n",
            "O resto é: 0\n"
          ]
        }
      ]
    },
    {
      "cell_type": "code",
      "source": [
        "#Use um ponteiro para acessar elementos de um vetor. O programa deve pedir que o usuário digite o tamanho do vetor. Depois, deve pedir o valor de cada elemento.\n",
        "#Por fim, o programa deve exibir o valor em cada posição. Tanto a entrada dos dados quanto sua exibição deve ser baseada no uso de um ponteiro para o vetor.\n",
        "#Recomendação para que o código seja compilado no Moodle: Utilize p como ponteiro para o vetor v.\n",
        "#Não use a notação de índices [i] para acessar as posições de v. Ao invés disso, use ponteiros por meio da notação *(p+i).\n",
        "%%writefile ex2.c\n",
        "#include<stdio.h>\n",
        "int main(void) {\n",
        "  int tamanho, *p, i;\n",
        "  printf(\"Digite o número de elementos do vetor: \");\n",
        "  scanf(\"%d\", &tamanho);\n",
        "  int v[tamanho];\n",
        "  p = v;\n",
        "  printf(\"Digite os elementos do vetor: \");\n",
        "  for(i = 0; i < tamanho; i++) {\n",
        "    scanf(\"%d\", &*(p+i));\n",
        "  }\n",
        "  for(i = 0; i < tamanho; i++) {\n",
        "    printf(\"O elemento na posição %d é %d\\n\", i, *(p+i));\n",
        "  }\n",
        "  return 0;\n",
        "}"
      ],
      "metadata": {
        "colab": {
          "base_uri": "https://localhost:8080/"
        },
        "id": "IcpB2WwfhOjo",
        "outputId": "2d5a46a4-0922-4b77-df69-437c5617c7bb"
      },
      "execution_count": null,
      "outputs": [
        {
          "output_type": "stream",
          "name": "stdout",
          "text": [
            "Overwriting ex2.c\n"
          ]
        }
      ]
    },
    {
      "cell_type": "code",
      "source": [
        "!gcc ex2.c -o ex2\n",
        "!./ex2"
      ],
      "metadata": {
        "colab": {
          "base_uri": "https://localhost:8080/"
        },
        "id": "vmdkzfoyiaYp",
        "outputId": "f2bc41fa-71a3-4af3-c141-b6f9fde6489f"
      },
      "execution_count": null,
      "outputs": [
        {
          "output_type": "stream",
          "name": "stdout",
          "text": [
            "Digite o número de elementos do vetor: 3\n",
            "Digite os elementos do vetor: 1\n",
            "2\n",
            "3\n",
            "O elemento na posição 0 é 1\n",
            "O elemento na posição 1 é 2\n",
            "O elemento na posição 2 é 3\n"
          ]
        }
      ]
    },
    {
      "cell_type": "code",
      "source": [
        "#Você pode usar um ponteiro para verificar o tamanho de uma string digitada pelo usuário usando a sintaxe *(str + i) para percorrer um vetor obtendo o valor de cada um de seus elementos.\n",
        "#Nesse caso, o \"i\" se refere ao índice do vetor e str é um ponteiro para caractere\n",
        "#Construa um programa que use esta sintaxe, que contempla ponteiros e vetores, para obter o tamanho de uma string.\n",
        "#Seu programa deve obter o valor obtido com a nova sintaxe, comparando-o com o valor obtido com a função strlen da biblioteca string (ambas as soluções devem ser iguais).\n",
        "#Você pode usar a função fgets da biblioteca string.h para ler a string, que nada mais é do que um vetor de caracteres.\n",
        "#Recomendação para a compilação no Moodle: Utilize str como ponteiro para o vetor de caracteres denominado texto[ ].\n",
        "#Não se esqueça de usar a função strlen para a comparação dos resultados obtidos.\n",
        "%%writefile ex3.c\n",
        "#include<stdio.h>\n",
        "#include<string.h>\n",
        "int main(void) {\n",
        "  char texto[80];\n",
        "  char *str;\n",
        "  int i = 0, cont = 0;\n",
        "  printf(\"Entre uma string: \");\n",
        "  fgets(texto, 80, stdin);\n",
        "  str = texto;\n",
        "  while (*(str+i) != '\\0') {\n",
        "    i++;\n",
        "    cont++;\n",
        "  }\n",
        "  int string = strlen(texto);\n",
        "  printf(\"O comprimento usando ponteiro é: %d\\n\", cont);\n",
        "  printf(\"O comprimento usando strlen é: %d\\n\", string);\n",
        "  return 0;\n",
        "}"
      ],
      "metadata": {
        "colab": {
          "base_uri": "https://localhost:8080/"
        },
        "id": "fE_ZglKUi8Wo",
        "outputId": "baf246b1-d5db-4377-a924-bd309efcf9d9"
      },
      "execution_count": null,
      "outputs": [
        {
          "output_type": "stream",
          "name": "stdout",
          "text": [
            "Overwriting ex3.c\n"
          ]
        }
      ]
    },
    {
      "cell_type": "code",
      "source": [
        "!gcc ex3.c -o ex3\n",
        "!./ex3"
      ],
      "metadata": {
        "colab": {
          "base_uri": "https://localhost:8080/"
        },
        "id": "H0rp3XZOjLyQ",
        "outputId": "8790ca79-4b21-4258-8668-9c41a77ecd30"
      },
      "execution_count": null,
      "outputs": [
        {
          "output_type": "stream",
          "name": "stdout",
          "text": [
            "Entre uma string: weqwe dad dasdcxzc\n",
            "O comprimento usando ponteiro é: 19\n",
            "O comprimento usando strlen é: 19\n"
          ]
        }
      ]
    },
    {
      "cell_type": "code",
      "source": [
        "#Outra sintaxe possível para obtenção do endereço de memória específico de um elemento de um vetor é, por exemplo, a partir de um ponteiro.\n",
        "#Nesse caso, um ponteiro e1 pode ser obtido para o primeiro elemento (índice 0) de um vetor de inteiros (vet) por meio da sintaxe int *e1 = vet+0.\n",
        "#Faça um programa que leia um vetor com tamanho N. Depois, leia uma posição i e mostre o valor do elemento i do vetor, usando a notação (vetor + i).\n",
        "#Recomendação: Use vetor como nome de variável. Utilize a notação (vetor+i) para acessar os endereços dos elementos.\n",
        "%%writefile ex4.c\n",
        "#include<stdio.h>\n",
        "int main(void) {\n",
        "  int tamanho, i = 0, e;\n",
        "  printf(\"Tamanho do vetor: \");\n",
        "  scanf(\"%d\", &tamanho);\n",
        "  int vetor[tamanho];\n",
        "  printf(\"O vetor é: \");\n",
        "  for(i; i < tamanho; i++) {\n",
        "    scanf(\"%d\", &*(vetor+i));\n",
        "  }\n",
        "  printf(\"elemento: \");\n",
        "  scanf(\"%d\", &e);\n",
        "  printf(\"O elemento %d vale: %d\", e, *(vetor+e));\n",
        "  return 0;\n",
        "}"
      ],
      "metadata": {
        "colab": {
          "base_uri": "https://localhost:8080/"
        },
        "id": "wyYYLYHml-kN",
        "outputId": "dbc643db-5086-4305-df80-30f022450048"
      },
      "execution_count": null,
      "outputs": [
        {
          "output_type": "stream",
          "name": "stdout",
          "text": [
            "Overwriting ex4.c\n"
          ]
        }
      ]
    },
    {
      "cell_type": "code",
      "source": [
        "!gcc ex4.c -o ex4\n",
        "!./ex4"
      ],
      "metadata": {
        "colab": {
          "base_uri": "https://localhost:8080/"
        },
        "id": "hoNjjYWYmQBf",
        "outputId": "08fcc94c-ec48-4670-e41d-e07b920a77e8"
      },
      "execution_count": null,
      "outputs": [
        {
          "output_type": "stream",
          "name": "stdout",
          "text": [
            "Tamanho do vetor: 5\n",
            "O vetor é: 1\n",
            "2\n",
            "4\n",
            "6\n",
            "7\n",
            "elemento: 3\n",
            "O elemento 3 vale: 6"
          ]
        }
      ]
    },
    {
      "cell_type": "code",
      "source": [
        "#Use uma função com passagem de parâmetros por referência para inverter os elementos de um vetor.\n",
        "#Use as funções: read_vec(*p, N), show_vec(*p, N) e inv_vec(*p, N) para leitura, exibição e processamento dos vetores, respectivamente.\n",
        "#Para a compilação no Moodle você deve estruturar seu programa com a leitura do vetor por meio de um ponteiro p, exibição de seu conteúdo,\n",
        "#processamento do vetor e posterior exibição do conteúdo, usando as funções requeridas.\n",
        "%%writefile ex5.c\n",
        "#include<stdio.h>\n",
        "void read_vec(int *p, int N) {\n",
        "  printf(\"Digite os elementos do vetor: \");\n",
        "  for(int i = 0; i < N; i++) {\n",
        "    scanf(\"%d\", &*(p+i));\n",
        "  }\n",
        "}\n",
        "void show_vec(int *p, int N) {\n",
        "  printf(\"O vetor é: \");\n",
        "  for(int i = 0; i < N; i++) {\n",
        "    printf(\"%d \", *(p+i));\n",
        "  }\n",
        "  printf(\"\\n\");\n",
        "}\n",
        "void inv_vec(int *p, int N) {\n",
        "  int inverte = 0;\n",
        "  for(int i = 0; i < N/2; i++) {\n",
        "    inverte = p[N - 1 - i];\n",
        "    p[N - 1 - i] = p[i];\n",
        "    p[i] = inverte;\n",
        "  }\n",
        "}\n",
        "int main(void) {\n",
        "  int tamanho, *p;\n",
        "  printf(\"Digite o tamanho do vetor: \");\n",
        "  scanf(\"%d\", &tamanho);\n",
        "  int vetor[tamanho];\n",
        "  p = vetor;\n",
        "  read_vec(p, tamanho);\n",
        "  show_vec(p, tamanho);\n",
        "  inv_vec(p, tamanho);\n",
        "  show_vec(p, tamanho);\n",
        "  return 0;\n",
        "\n",
        "}"
      ],
      "metadata": {
        "colab": {
          "base_uri": "https://localhost:8080/"
        },
        "id": "l8WGrtWfovmA",
        "outputId": "7e600c2e-a558-45ec-c212-c063abffdb09"
      },
      "execution_count": null,
      "outputs": [
        {
          "output_type": "stream",
          "name": "stdout",
          "text": [
            "Overwriting ex5.c\n"
          ]
        }
      ]
    },
    {
      "cell_type": "code",
      "source": [
        "!gcc ex5.c -o ex5\n",
        "!./ex5"
      ],
      "metadata": {
        "colab": {
          "base_uri": "https://localhost:8080/"
        },
        "id": "cEFd8W40qC97",
        "outputId": "65d5b241-24c5-4def-de37-f806ed14a874"
      },
      "execution_count": null,
      "outputs": [
        {
          "output_type": "stream",
          "name": "stdout",
          "text": [
            "Digite o tamanho do vetor: 4\n",
            "Digite os elementos do vetor: 1\n",
            "2\n",
            "3\n",
            "4\n",
            "O vetor é: 1 2 3 4 \n",
            "O vetor é: 4 3 2 1 \n"
          ]
        }
      ]
    }
  ]
}